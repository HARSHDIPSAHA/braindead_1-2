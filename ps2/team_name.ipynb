{
 "cells": [
  {
   "cell_type": "code",
   "execution_count": 1,
   "metadata": {},
   "outputs": [],
   "source": [
    "import pandas as pd\n",
    "\n",
    "# Load the dataset\n",
    "arxiv_df = pd.read_csv('filtered_data.csv')\n",
    "\n"
   ]
  },
  {
   "cell_type": "code",
   "execution_count": 6,
   "metadata": {},
   "outputs": [
    {
     "name": "stdout",
     "output_type": "stream",
     "text": [
      "Index(['title', 'abstract'], dtype='object')\n"
     ]
    }
   ],
   "source": [
    "print(arxiv_df.columns)\n"
   ]
  },
  {
   "cell_type": "code",
   "execution_count": 3,
   "metadata": {},
   "outputs": [],
   "source": [
    "import pandas as pd\n",
    "import torch\n",
    "from torch.utils.data import Dataset, DataLoader, ConcatDataset\n",
    "from transformers import BartForConditionalGeneration, BartTokenizer, AdamW, get_scheduler\n",
    "import torch.nn as nn\n",
    "\n",
    "# Load datasets\n",
    "compscholar_df = pd.read_csv(r\"Brain Dead CompScholar Dataset.csv\")\n",
    "pubmed_df = pd.read_csv('pubmed_articles.csv')\n",
    "\n",
    "\n",
    "tokenizer = BartTokenizer.from_pretrained(\"facebook/bart-large\")\n",
    "\n",
    "# Preprocessing function\n",
    "def preprocess_text(text):\n",
    "    return tokenizer(text, padding=\"max_length\", truncation=True, max_length=512, return_tensors=\"pt\")\n"
   ]
  },
  {
   "cell_type": "code",
   "execution_count": 4,
   "metadata": {},
   "outputs": [],
   "source": [
    "compscholar_df.isnull().sum()\n",
    "compscholar_df.dropna(inplace=True)\n",
    "pubmed_df.isnull().sum()\n",
    "pubmed_df.dropna(inplace=True)  \n",
    "arxiv_df.isnull().sum()\n",
    "arxiv_df.dropna(inplace=True)"
   ]
  },
  {
   "cell_type": "code",
   "execution_count": 5,
   "metadata": {},
   "outputs": [],
   "source": [
    "compscholar_df.rename(columns={'Paper Title': 'Title'}, inplace=True)\n"
   ]
  },
  {
   "cell_type": "code",
   "execution_count": 6,
   "metadata": {},
   "outputs": [],
   "source": [
    "arxiv_df.rename(columns={'title': 'Title'}, inplace=True)\n"
   ]
  },
  {
   "cell_type": "code",
   "execution_count": 7,
   "metadata": {},
   "outputs": [],
   "source": [
    "arxiv_df.rename(columns={'abstract': 'Abstract'}, inplace=True)\n"
   ]
  },
  {
   "cell_type": "code",
   "execution_count": null,
   "metadata": {},
   "outputs": [],
   "source": [
    "class SummarizationDataset(Dataset):\n",
    "    def __init__(self, dataframe):\n",
    "        self.input_ids = dataframe['Abstract'].apply(lambda x: preprocess_text(x)['input_ids'].squeeze(0)).tolist()\n",
    "        self.attention_mask = dataframe['Abstract'].apply(lambda x: preprocess_text(x)['attention_mask'].squeeze(0)).tolist()\n",
    "        self.labels = dataframe['Title'].apply(lambda x: preprocess_text(f\"stok {x} etok\")['input_ids'].squeeze(0)).tolist()\n",
    "\n",
    "    def __len__(self):\n",
    "        return len(self.input_ids)\n",
    "\n",
    "    def __getitem__(self, idx):\n",
    "        return {\n",
    "            'input_ids': self.input_ids[idx],\n",
    "            'attention_mask': self.attention_mask[idx],\n",
    "            'labels': self.labels[idx]\n",
    "        }\n",
    "\n",
    "# Combine datasets\n",
    "train_dataset = ConcatDataset([\n",
    "    SummarizationDataset(arxiv_df),\n",
    "    SummarizationDataset(pubmed_df)\n",
    "])\n",
    "test_dataset = SummarizationDataset(compscholar_df)\n"
   ]
  },
  {
   "cell_type": "code",
   "execution_count": 15,
   "metadata": {},
   "outputs": [],
   "source": [
    "\n",
    "class HybridSummarizer(nn.Module):\n",
    "    def __init__(self):\n",
    "        super().__init__()\n",
    "        self.model = BartForConditionalGeneration.from_pretrained(\"facebook/bart-large\")\n",
    "\n",
    "    def forward(self, input_ids, attention_mask, labels):\n",
    "        return self.model(input_ids=input_ids, attention_mask=attention_mask, labels=labels)\n"
   ]
  },
  {
   "cell_type": "code",
   "execution_count": null,
   "metadata": {},
   "outputs": [],
   "source": [
    "device = torch.device(\"cuda\" if torch.cuda.is_available() else \"cpu\")\n",
    "model = HybridSummarizer().to(device)\n",
    "\n",
    "# Training Setup\n",
    "optimizer = AdamW(model.parameters(), lr=2e-5)\n",
    "train_loader = DataLoader(train_dataset, batch_size=4, shuffle=True)\n",
    "test_loader = DataLoader(test_dataset, batch_size=4, shuffle=False)\n",
    "num_training_steps = len(train_loader) * 3  # 3 epochs\n",
    "scheduler = get_scheduler(\"linear\", optimizer=optimizer, num_warmup_steps=0, num_training_steps=num_training_steps)\n",
    "\n",
    "# Training Loop\n",
    "for epoch in range(3):\n",
    "    for batch in train_loader:\n",
    "        input_ids = batch['input_ids'].to(device)\n",
    "        attention_mask = batch['attention_mask'].to(device)\n",
    "        labels = batch['labels'].to(device)\n",
    "\n",
    "        outputs = model(input_ids, attention_mask=attention_mask, labels=labels)\n",
    "        loss = outputs.loss\n",
    "        loss.backward()\n",
    "        optimizer.step()\n",
    "        scheduler.step()\n",
    "        optimizer.zero_grad()\n",
    "# Save the model\n",
    "torch.save(model.state_dict(), \"hybrid_summarizer.pth\")\n",
    "print(\"Model training complete. Saved as 'hybrid_summarizer.pth'.\")\n",
    "\n",
    "\n",
    "\n",
    "\n",
    "\n",
    "\n",
    "\n",
    "\n",
    "\n",
    "\n",
    "\n",
    "\n",
    "\n",
    "\n",
    "\n"
   ]
  },
  {
   "cell_type": "code",
   "execution_count": null,
   "metadata": {},
   "outputs": [],
   "source": [
    "from datasets import load_metric\n",
    "\n",
    "\n",
    "model.eval()\n",
    "rouge = load_metric(\"rouge\")\n",
    "\n",
    "generated_summaries = []\n",
    "reference_summaries = []\n",
    "\n",
    "with torch.no_grad():\n",
    "    for batch in test_loader:\n",
    "        input_ids = torch.stack(batch['input_ids']).to(device)\n",
    "        attention_mask = torch.stack(batch['attention_mask']).to(device)\n",
    "        labels = batch['labels']\n",
    "\n",
    "        outputs = model.model.generate(input_ids, attention_mask=attention_mask, max_length=150)\n",
    "        generated_texts = [tokenizer.decode(output, skip_special_tokens=True) for output in outputs]\n",
    "        reference_texts = [tokenizer.decode(label, skip_special_tokens=True) for label in labels]\n",
    "\n",
    "        generated_summaries.extend(generated_texts)\n",
    "        reference_summaries.extend(reference_texts)\n",
    "\n",
    "# Compute ROUGE Score\n",
    "rouge_scores = rouge.compute(predictions=generated_summaries, references=reference_summaries)\n",
    "print(\"ROUGE Scores:\", rouge_scores)"
   ]
  },
  {
   "cell_type": "code",
   "execution_count": null,
   "metadata": {},
   "outputs": [],
   "source": [
    "# import torch\n",
    "# from transformers import BartForConditionalGeneration, BartTokenizer\n",
    "\n",
    "# # Load tokenizer and model\n",
    "# tokenizer = BartTokenizer.from_pretrained(\"facebook/bart-large\")\n",
    "\n",
    "# device = torch.device(\"cuda\" if torch.cuda.is_available() else \"cpu\")\n",
    "\n",
    "# # Initialize model and load trained weights\n",
    "# model = BartForConditionalGeneration.from_pretrained(\"facebook/bart-large\")\n",
    "# model.load_state_dict(torch.load(\"hybrid_summarizer.pth\", map_location=device))\n",
    "# model.to(device)\n",
    "# model.eval()\n"
   ]
  },
  {
   "cell_type": "code",
   "execution_count": null,
   "metadata": {},
   "outputs": [],
   "source": [
    "# def generate_summary(text, max_length=100):\n",
    "#     inputs = tokenizer(text, return_tensors=\"pt\", truncation=True, max_length=512).to(device)\n",
    "#     summary_ids = model.generate(**inputs, max_length=max_length, num_beams=5, early_stopping=True)\n",
    "#     return tokenizer.decode(summary_ids[0], skip_special_tokens=True)\n",
    "\n",
    "# # Sample input abstracts\n",
    "# test_abstracts = [\n",
    "#     \"Deep learning has revolutionized various AI applications. This paper explores novel techniques in transformer architectures.\",\n",
    "#     \"A new approach to drug discovery using AI and quantum computing is proposed, significantly reducing time and cost.\"\n",
    "# ]\n",
    "\n",
    "# # Generate and print summaries\n",
    "# for abstract in test_abstracts:\n",
    "#     print(\"Abstract:\", abstract)\n",
    "#     print(\"Generated Summary:\", generate_summary(abstract))\n",
    "#     print(\"-\" * 50)\n"
   ]
  },
  {
   "cell_type": "code",
   "execution_count": null,
   "metadata": {},
   "outputs": [],
   "source": [
    "# from rouge_score import rouge_scorer\n",
    "\n",
    "# # Reference (Ground Truth) Summaries\n",
    "# reference_summaries = [\n",
    "#     \"Deep learning transforms AI with improved transformer models.\",\n",
    "#     \"AI and quantum computing accelerate drug discovery.\"\n",
    "# ]\n",
    "\n",
    "# # Compute ROUGE Scores\n",
    "# scorer = rouge_scorer.RougeScorer(['rouge1', 'rouge2', 'rougeL'], use_stemmer=True)\n",
    "\n",
    "# for i, abstract in enumerate(test_abstracts):\n",
    "#     generated_summary = generate_summary(abstract)\n",
    "#     scores = scorer.score(reference_summaries[i], generated_summary)\n",
    "\n",
    "#     print(f\"Sample {i+1} ROUGE Scores:\")\n",
    "#     print(\"ROUGE-1:\", scores['rouge1'].fmeasure)\n",
    "#     print(\"ROUGE-2:\", scores['rouge2'].fmeasure)\n",
    "#     print(\"ROUGE-L:\", scores['rougeL'].fmeasure)\n",
    "#     print(\"-\" * 50)\n"
   ]
  },
  {
   "cell_type": "code",
   "execution_count": null,
   "metadata": {},
   "outputs": [],
   "source": [
    "# from rouge_score import rouge_scorer\n",
    "# from sacrebleu import corpus_bleu\n",
    "# import nltk\n",
    "\n",
    "# # Download NLTK tokenizer\n",
    "# nltk.download('punkt')\n",
    "\n",
    "# def compute_rouge(reference_summaries, generated_summaries):\n",
    "#     scorer = rouge_scorer.RougeScorer(['rouge1', 'rouge2', 'rougeL'], use_stemmer=True)\n",
    "#     scores = {'rouge1': [], 'rouge2': [], 'rougeL': []}\n",
    "\n",
    "#     for ref, gen in zip(reference_summaries, generated_summaries):\n",
    "#         score = scorer.score(ref, gen)\n",
    "#         scores['rouge1'].append(score['rouge1'].fmeasure)\n",
    "#         scores['rouge2'].append(score['rouge2'].fmeasure)\n",
    "#         scores['rougeL'].append(score['rougeL'].fmeasure)\n",
    "\n",
    "#     return {metric: sum(values) / len(values) for metric, values in scores.items()}\n",
    "\n",
    "# def compute_bleu(reference_summaries, generated_summaries):\n",
    "#     references = [[nltk.word_tokenize(ref)] for ref in reference_summaries]\n",
    "#     hypotheses = [nltk.word_tokenize(gen) for gen in generated_summaries]\n",
    "#     return corpus_bleu(hypotheses, references).score\n"
   ]
  },
  {
   "cell_type": "code",
   "execution_count": null,
   "metadata": {},
   "outputs": [],
   "source": [
    "# def generate_summaries(model, test_loader, tokenizer):\n",
    "#     model.eval()\n",
    "#     generated_summaries = []\n",
    "#     reference_summaries = []\n",
    "\n",
    "#     with torch.no_grad():\n",
    "#         for batch in test_loader:\n",
    "#             input_ids = batch['input_ids'].to(device)\n",
    "#             attention_mask = batch['attention_mask'].to(device)\n",
    "#             labels = batch['labels']\n",
    "\n",
    "#             outputs = model.generate(input_ids, attention_mask=attention_mask, max_length=150)\n",
    "#             generated_texts = tokenizer.batch_decode(outputs, skip_special_tokens=True)\n",
    "#             reference_texts = tokenizer.batch_decode(labels, skip_special_tokens=True)\n",
    "\n",
    "#             generated_summaries.extend(generated_texts)\n",
    "#             reference_summaries.extend(reference_texts)\n",
    "\n",
    "#     return reference_summaries, generated_summaries\n"
   ]
  },
  {
   "cell_type": "code",
   "execution_count": null,
   "metadata": {},
   "outputs": [],
   "source": [
    "# reference_summaries, generated_summaries = generate_summaries(model, test_loader, tokenizer)\n",
    "\n",
    "# # Compute ROUGE Scores\n",
    "# rouge_scores = compute_rouge(reference_summaries, generated_summaries)\n",
    "# print(\"ROUGE Scores:\", rouge_scores)\n",
    "\n",
    "# # Compute BLEU Score\n",
    "# bleu_score = compute_bleu(reference_summaries, generated_summaries)\n",
    "# print(\"BLEU Score:\", bleu_score)\n"
   ]
  }
 ],
 "metadata": {
  "kernelspec": {
   "display_name": "Python 3",
   "language": "python",
   "name": "python3"
  },
  "language_info": {
   "codemirror_mode": {
    "name": "ipython",
    "version": 3
   },
   "file_extension": ".py",
   "mimetype": "text/x-python",
   "name": "python",
   "nbconvert_exporter": "python",
   "pygments_lexer": "ipython3",
   "version": "3.12.0"
  }
 },
 "nbformat": 4,
 "nbformat_minor": 2
}
