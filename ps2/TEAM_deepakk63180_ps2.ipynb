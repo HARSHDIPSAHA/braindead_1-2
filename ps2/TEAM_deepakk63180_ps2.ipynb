{
 "cells": [
  {
   "cell_type": "code",
   "execution_count": 4,
   "metadata": {},
   "outputs": [],
   "source": [
    "import pandas as pd\n",
    "\n",
    "# Load the dataset\n",
    "arxiv_df = pd.read_csv(r\"H:\\braindead\\braindead_1-2\\ps2\\filtered_data.csv\")\n",
    "\n"
   ]
  },
  {
   "cell_type": "code",
   "execution_count": 5,
   "metadata": {},
   "outputs": [
    {
     "name": "stdout",
     "output_type": "stream",
     "text": [
      "Index(['title', 'abstract'], dtype='object')\n"
     ]
    }
   ],
   "source": [
    "print(arxiv_df.columns)\n"
   ]
  },
  {
   "cell_type": "code",
   "execution_count": 6,
   "metadata": {},
   "outputs": [],
   "source": [
    "import pandas as pd\n",
    "import torch\n",
    "from torch.utils.data import Dataset, DataLoader, ConcatDataset\n",
    "from transformers import BartForConditionalGeneration, BartTokenizer, AdamW, get_scheduler\n",
    "import torch.nn as nn\n",
    "\n",
    "# Load datasets\n",
    "compscholar_df = pd.read_csv(r\"Brain Dead CompScholar Dataset.csv\")\n",
    "pubmed_df = pd.read_csv('pubmed_articles.csv')\n",
    "\n",
    "\n",
    "tokenizer = BartTokenizer.from_pretrained(\"facebook/bart-large\")\n",
    "\n",
    "# Preprocessing function\n",
    "def preprocess_text(text):\n",
    "    return tokenizer(text, padding=\"max_length\", truncation=True, max_length=512, return_tensors=\"pt\")\n"
   ]
  },
  {
   "cell_type": "code",
   "execution_count": 7,
   "metadata": {},
   "outputs": [],
   "source": [
    "compscholar_df.isnull().sum()\n",
    "compscholar_df.dropna(inplace=True)\n",
    "pubmed_df.isnull().sum()\n",
    "pubmed_df.dropna(inplace=True)  \n",
    "arxiv_df.isnull().sum()\n",
    "arxiv_df.dropna(inplace=True)"
   ]
  },
  {
   "cell_type": "code",
   "execution_count": 8,
   "metadata": {},
   "outputs": [
    {
     "data": {
      "text/plain": [
       "43"
      ]
     },
     "execution_count": 8,
     "metadata": {},
     "output_type": "execute_result"
    }
   ],
   "source": [
    "arxiv_df.duplicated().sum()\n",
    "\n"
   ]
  },
  {
   "cell_type": "code",
   "execution_count": 9,
   "metadata": {},
   "outputs": [
    {
     "data": {
      "text/plain": [
       "0"
      ]
     },
     "execution_count": 9,
     "metadata": {},
     "output_type": "execute_result"
    }
   ],
   "source": [
    "\n",
    "compscholar_df.duplicated().sum()\n"
   ]
  },
  {
   "cell_type": "code",
   "execution_count": 10,
   "metadata": {},
   "outputs": [
    {
     "data": {
      "text/plain": [
       "0"
      ]
     },
     "execution_count": 10,
     "metadata": {},
     "output_type": "execute_result"
    }
   ],
   "source": [
    "pubmed_df.duplicated().sum()"
   ]
  },
  {
   "cell_type": "code",
   "execution_count": 31,
   "metadata": {},
   "outputs": [],
   "source": [
    "compscholar_df.rename(columns={'Paper Title': 'Title'}, inplace=True)\n"
   ]
  },
  {
   "cell_type": "code",
   "execution_count": 11,
   "metadata": {},
   "outputs": [
    {
     "data": {
      "application/vnd.microsoft.datawrangler.viewer.v0+json": {
       "columns": [
        {
         "name": "index",
         "rawType": "int64",
         "type": "integer"
        },
        {
         "name": "title",
         "rawType": "object",
         "type": "string"
        },
        {
         "name": "abstract",
         "rawType": "object",
         "type": "string"
        }
       ],
       "conversionMethod": "pd.DataFrame",
       "ref": "173d9a83-fae5-4439-9450-8eda0a721660",
       "rows": [
        [
         "64052",
         "A Diamond Structure in the Transducer Hierarchy",
         "  We answer an open question in the theory of transducer degrees initially\nposed in [1] on the existence of a diamond structure in the transducer\nhierarchy. Transducer degrees are the equivalence classes formed by word\ntransformations which can be realized by a finite state transducer, which form\nan order based on which words can be transformed into other words. We provide a\nconstruction which proves the existence of a diamond structure, while also\nintroducing a new function on streams which may be useful for proving more\nresults about the transducer hierarchy.\n"
        ],
        [
         "78389",
         "Distributionally Robust Multiclass Classification and Applications in\n  Deep Image Classifiers",
         "  We develop a Distributionally Robust Optimization (DRO) formulation for\nMulticlass Logistic Regression (MLR), which could tolerate data contaminated by\noutliers. The DRO framework uses a probabilistic ambiguity set defined as a\nball of distributions that are close to the empirical distribution of the\ntraining set in the sense of the Wasserstein metric. We relax the DRO\nformulation into a regularized learning problem whose regularizer is a norm of\nthe coefficient matrix. We establish out-of-sample performance guarantees for\nthe solutions to our model, offering insights on the role of the regularizer in\ncontrolling the prediction error. We apply the proposed method in rendering\ndeep Vision Transformer (ViT)-based image classifiers robust to random and\nadversarial attacks. Specifically, using the MNIST and CIFAR-10 datasets, we\ndemonstrate reductions in test error rate by up to 83.5% and loss by up to\n91.3% compared with baseline methods, by adopting a novel random training\nmethod.\n"
        ],
        [
         "109913",
         "Causal Graph Discovery from Self and Mutually Exciting Time Series",
         "  We present a generalized linear structural causal model, coupled with a novel\ndata-adaptive linear regularization, to recover causal directed acyclic graphs\n(DAGs) from time series. By leveraging a recently developed stochastic monotone\nVariational Inequality (VI) formulation, we cast the causal discovery problem\nas a general convex optimization. Furthermore, we develop a non-asymptotic\nrecovery guarantee and quantifiable uncertainty by solving a linear program to\nestablish confidence intervals for a wide range of non-linear monotone link\nfunctions. We validate our theoretical results and show the competitive\nperformance of our method via extensive numerical experiments. Most\nimportantly, we demonstrate the effectiveness of our approach in recovering\nhighly interpretable causal DAGs over Sepsis Associated Derangements (SADs)\nwhile achieving comparable prediction performance to powerful ``black-box''\nmodels such as XGBoost. Thus, the future adoption of our proposed method to\nconduct continuous surveillance of high-risk patients by clinicians is much\nmore likely.\n"
        ],
        [
         "142197",
         "Weak error analysis for strong approximation schemes of SDEs with\n  super-linear coefficients",
         "  We present an error analysis of weak convergence of one-step numerical\nschemes for stochastic differential equations (SDEs) with super-linearly\ngrowing coefficients. Following Milstein's weak error analysis on the one-step\napproximation of SDEs, we prove a general conclusion on weak convergence of the\none-step discretization of the SDEs mentioned above. As applications, we show\nthe weak convergence rates for several numerical schemes of half-order strong\nconvergence, such as tamed and balanced schemes. Numerical examples are\npresented to verify our theoretical analysis.\n"
        ],
        [
         "166618",
         "Novel structure-preserving schemes for stochastic\n  Klein--Gordon--Schr\\\"odinger equations with additive noise",
         "  Stochastic Klein--Gordon--Schr\\\"odinger (KGS) equations are important\nmathematical models and describe the interaction between scalar nucleons and\nneutral scalar mesons in the stochastic environment. In this paper, we propose\nnovel structure-preserving schemes to numerically solve stochastic KGS\nequations with additive noise, which preserve averaged charge evolution law,\naveraged energy evolution law, symplecticity, and multi-symplecticity. By\napplying central difference, sine pseudo-spectral method, or finite element\nmethod in space and modifying finite difference in time, we present some charge\nand energy preserved fully-discrete scheme for the original system. In\naddition, combining the symplectic Runge-Kutta method in time and finite\ndifference in space, we propose a class of multi-symplectic discretizations\npreserving the geometric structure of the stochastic KGS equation. Finally,\nnumerical experiments confirm theoretical findings.\n"
        ],
        [
         "166651",
         "Mover: Mask and Recovery based Facial Part Consistency Aware Method for\n  Deepfake Video Detection",
         "  Deepfake techniques have been widely used for malicious purposes, prompting\nextensive research interest in developing Deepfake detection methods. Deepfake\nmanipulations typically involve tampering with facial parts, which can result\nin inconsistencies across different parts of the face. For instance, Deepfake\ntechniques may change smiling lips to an upset lip, while the eyes remain\nsmiling. Existing detection methods depend on specific indicators of forgery,\nwhich tend to disappear as the forgery patterns are improved. To address the\nlimitation, we propose Mover, a new Deepfake detection model that exploits\nunspecific facial part inconsistencies, which are inevitable weaknesses of\nDeepfake videos. Mover randomly masks regions of interest (ROIs) and recovers\nfaces to learn unspecific features, which makes it difficult for fake faces to\nbe recovered, while real faces can be easily recovered. Specifically, given a\nreal face image, we first pretrain a masked autoencoder to learn facial part\nconsistency by dividing faces into three parts and randomly masking ROIs, which\nare then recovered based on the unmasked facial parts. Furthermore, to maximize\nthe discrepancy between real and fake videos, we propose a novel model with\ndual networks that utilize the pretrained encoder and masked autoencoder,\nrespectively. 1) The pretrained encoder is finetuned for capturing the encoding\nof inconsistent information in the given video. 2) The pretrained masked\nautoencoder is utilized for mapping faces and distinguishing real and fake\nvideos. Our extensive experiments on standard benchmarks demonstrate that Mover\nis highly effective.\n"
        ],
        [
         "181340",
         "Gravitational waves in scalar-tensor theory to one-and-a-half\n  post-Newtonian order",
         "  We compute the gravitational waves generated by compact binary systems in a\nclass of massless scalar-tensor (ST) theories to the 1.5 post-Newtonian (1.5PN)\norder beyond the standard quadrupole radiation in general relativity (GR).\nUsing and adapting to ST theories the multipolar-post-Minkowskian and\npost-Newtonian formalisms originally defined in GR, we obtain the tail and\nnon-linear memory terms associated with the dipole radiation in ST theory. The\nmultipole moments and GW flux of compact binaries are derived for general\norbits including the new 1.5PN contribution, and comparison is made with\nprevious results in the literature. In the case of quasi-circular orbits, we\npresent ready-to-use templates for the data analysis of detectors, and for the\nfirst time the scalar GW modes for comparisons with numerical relativity\nresults.\n"
        ],
        [
         "182761",
         "Solving Differential-Algebraic Equations in Power System Dynamic\n  Analysis with Quantum Computing",
         "  Power system dynamics are generally modeled by high dimensional nonlinear\ndifferential-algebraic equations (DAEs) given a large number of components\nforming the network. These DAEs' complexity can grow exponentially due to the\nincreasing penetration of distributed energy resources, whereas their\ncomputation time becomes sensitive due to the increasing interconnection of the\npower grid with other energy systems. This paper demonstrates the use of\nquantum computing algorithms to solve DAEs for power system dynamic analysis.\nWe leverage a symbolic programming framework to equivalently convert the power\nsystem's DAEs into ordinary differential equations (ODEs) using index reduction\nmethods and then encode their data into qubits using amplitude encoding. The\nsystem nonlinearity is captured by Hamiltonian simulation with truncated Taylor\nexpansion so that state variables can be updated by a quantum linear equation\nsolver. Our results show that quantum computing can solve the power system's\nDAEs accurately with a computational complexity polynomial in the logarithm of\nthe system dimension. We also illustrate the use of recent advanced tools in\nscientific machine learning for implementing complex computing concepts, i.e.\nTaylor expansion, DAEs/ODEs transformation, and quantum computing solver with\nabstract representation for power engineering applications.\n"
        ],
        [
         "191334",
         "Improving Generalizability of Graph Anomaly Detection Models via Data\n  Augmentation",
         "  Graph anomaly detection (GAD) is a vital task since even a few anomalies can\npose huge threats to benign users. Recent semi-supervised GAD methods, which\ncan effectively leverage the available labels as prior knowledge, have achieved\nsuperior performances than unsupervised methods. In practice, people usually\nneed to identify anomalies on new (sub)graphs to secure their business, but\nthey may lack labels to train an effective detection model. One natural idea is\nto directly adopt a trained GAD model to the new (sub)graph for testing.\nHowever, we find that existing semi-supervised GAD methods suffer from poor\ngeneralization issue, i.e., well-trained models could not perform well on an\nunseen area (i.e., not accessible in training) of the same graph. It may cause\ngreat troubles. In this paper, we base on the phenomenon and propose a general\nand novel research problem of generalized graph anomaly detection that aims to\neffectively identify anomalies on both the training-domain graph and unseen\ntesting graph to eliminate potential dangers. Nevertheless, it is a challenging\ntask since only limited labels are available, and the normal background may\ndiffer between training and testing data. Accordingly, we propose a data\naugmentation method named \\textit{AugAN} (\\uline{Aug}mentation for\n\\uline{A}nomaly and \\uline{N}ormal distributions) to enrich training data and\nboost the generalizability of GAD models. Experiments verify the effectiveness\nof our method in improving model generalizability.\n"
        ],
        [
         "208062",
         "Impact of nuclear structure on longitudinal flow decorrelations in\n  high-energy isobar collisions",
         "  Fluctuations of harmonic flow along pseudorapidity, known as flow\ndecorrelations, are an important probe of the initial state geometry of the\nquark-gluon plasma. The flow decorrelations are shown to be sensitive to the\ncollective structure of the colliding nuclei, as revealed clearly by comparing\ncollisions of isobars, $^{96}$Ru+$^{96}$Ru and $^{96}$Zr+$^{96}$Zr, which have\ndifferent nuclear structures. The flow decorrelations in central collisions are\nmostly sensitive to nuclear deformations, while those in the mid-central\ncollisions are primarily sensitive to differences in skin thickness between\n$^{96}$Ru and $^{96}$Zr. Longitudinal flow decorrelations in heavy-ion\ncollisions are a new tool to probe the structure of colliding nuclei.\n"
        ],
        [
         "209152",
         "Analytic Solution for the Revised Helicity Evolution at Small $x$ and\n  Large $N_c$: New Resummed Gluon-Gluon Polarized Anomalous Dimension and\n  Intercept",
         "  We construct an exact analytic solution of the revised small-$x$ helicity\nevolution equations derived recently. The equations we solve are obtained in\nthe large-$N_c$ limit (with $N_c$ the number of quark colors) and are\ndouble-logarithmic (summing powers of $\\alpha_s \\ln^2(1/x)$ with $\\alpha_s$ the\nstrong coupling constant and $x$ the Bjorken $x$ variable). Our solution\nprovides small-$x$, large-$N_c$ expressions for the flavor-singlet quark and\ngluon helicity parton distribution functions (PDFs) and for the $g_1$ structure\nfunction, with their leading small-$x$ asymptotics given by \\begin{align}\n  \\Delta \\Sigma (x, Q^2) \\sim \\Delta G (x, Q^2)\n  \\sim g_1 (x, Q^2) \\sim \\left( \\frac{1}{x} \\right)^{\\alpha_h} , \\notag\n\\end{align} where the exact analytic expression we obtain for the intercept\n$\\alpha_h$ can be approximated by $\\alpha_h = 3.66074 \\, \\sqrt{\\frac{\\alpha_s\n\\, N_c}{2 \\pi}}$. Our solution also yields an all-order (in $\\alpha_s$)\nresummed small-$x$ anomalous dimension $\\Delta \\gamma_{GG} (\\omega)$ which\nagrees with all the existing fixed-order calculations (to three loops).\nNotably, our anomalous dimension is different from that obtained in the\ninfrared evolution equation framework developed earlier by Bartels, Ermolaev,\nand Ryskin (BER), with the disagreement starting at four loops. Despite the\npreviously reported agreement at two decimal points based on the numerical\nsolution of the same equations, the intercept of our large-$N_c$ helicity\nevolution and that of BER disagree beyond that precision, with the BER\nintercept at large $N_c$ given by a different analytic expression from ours\nwith the numerical value of $\\alpha_h^{BER} = 3.66394 \\, \\sqrt{\\frac{\\alpha_s\n\\, N_c}{2 \\pi}}$. We speculate on the origin of this disagreement.\n"
        ],
        [
         "235131",
         "Episodic Logit-Q Dynamics for Efficient Learning in Stochastic Teams",
         "  We present new learning dynamics combining (independent) log-linear learning\nand value iteration for stochastic games within the auxiliary stage game\nframework. The dynamics presented provably attain the efficient equilibrium\n(also known as optimal equilibrium) in identical-interest stochastic games,\nbeyond the recent concentration of progress on provable convergence to some\n(possibly inefficient) equilibrium. The dynamics are also independent in the\nsense that agents take actions consistent with their local viewpoint to a\nreasonable extent rather than seeking equilibrium. These aspects can be of\npractical interest in the control applications of intelligent and autonomous\nsystems. The key challenges are the convergence to an inefficient equilibrium\nand the non-stationarity of the environment from a single agent's viewpoint due\nto the adaptation of others. The log-linear update plays an important role in\naddressing the former. We address the latter through the play-in-episodes\nscheme in which the agents update their Q-function estimates only at the end of\nthe episodes.\n"
        ],
        [
         "243873",
         "CNNs for JPEGs: A Study in Computational Cost",
         "  Convolutional neural networks (CNNs) have achieved astonishing advances over\nthe past decade, defining state-of-the-art in several computer vision tasks.\nCNNs are capable of learning robust representations of the data directly from\nthe RGB pixels. However, most image data are usually available in compressed\nformat, from which the JPEG is the most widely used due to transmission and\nstorage purposes demanding a preliminary decoding process that have a high\ncomputational load and memory usage. For this reason, deep learning methods\ncapable of learning directly from the compressed domain have been gaining\nattention in recent years. Those methods usually extract a frequency domain\nrepresentation of the image, like DCT, by a partial decoding, and then make\nadaptation to typical CNNs architectures to work with them. One limitation of\nthese current works is that, in order to accommodate the frequency domain data,\nthe modifications made to the original model increase significantly their\namount of parameters and computational complexity. On one hand, the methods\nhave faster preprocessing, since the cost of fully decoding the images is\navoided, but on the other hand, the cost of passing the images though the model\nis increased, mitigating the possible upside of accelerating the method. In\nthis paper, we propose a further study of the computational cost of deep models\ndesigned for the frequency domain, evaluating the cost of decoding and passing\nthe images through the network. We also propose handcrafted and data-driven\ntechniques for reducing the computational complexity and the number of\nparameters for these models in order to keep them similar to their RGB\nbaselines, leading to efficient models with a better trade off between\ncomputational cost and accuracy.\n"
        ],
        [
         "250910",
         "Counterfactual Causality for Reachability and Safety based on Distance\n  Functions",
         "  Investigations of causality in operational systems aim at providing\nhuman-understandable explanations of why a system behaves as it does. There is,\nin particular, a demand to explain what went wrong on a given counterexample\nexecution that shows that a system does not satisfy a given specification. To\nthis end, this paper investigates a notion of counterfactual causality in\ntransition systems based on Stalnaker's and Lewis' semantics of counterfactuals\nin terms of most similar possible worlds and introduces a novel corresponding\nnotion of counterfactual causality in two-player games. Using distance\nfunctions between paths in transition systems, this notion defines whether\nreaching a certain set of states is a cause for the violation of a reachability\nor safety property. Similarly, using distance functions between memoryless\nstrategies in reachability and safety games, it is defined whether reaching a\nset of states is a cause for the fact that a given strategy for the player\nunder investigation is losing. The contribution of the paper is two-fold: In\ntransition systems, it is shown that counterfactual causality can be checked in\npolynomial time for three prominent distance functions between paths. In\ntwo-player games, the introduced notion of counterfactual causality is shown to\nbe checkable in polynomial time for two natural distance functions between\nmemoryless strategies. Further, a notion of explanation that can be extracted\nfrom a counterfactual cause and that pinpoints changes to be made to the given\nstrategy in order to transform it into a winning strategy is defined. For the\ntwo distance functions under consideration, the problem to decide whether such\nan explanation imposes only minimal necessary changes to the given strategy\nwith respect to the used distance function turns out to be coNP-complete and\nnot to be solvable in polynomial time if P is not equal to NP, respectively.\n"
        ],
        [
         "261478",
         "When Rigidity Hurts: Soft Consistency Regularization for Probabilistic\n  Hierarchical Time Series Forecasting",
         "  Probabilistic hierarchical time-series forecasting is an important variant of\ntime-series forecasting, where the goal is to model and forecast multivariate\ntime-series that have underlying hierarchical relations. Most methods focus on\npoint predictions and do not provide well-calibrated probabilistic forecasts\ndistributions. Recent state-of-art probabilistic forecasting methods also\nimpose hierarchical relations on point predictions and samples of distribution\nwhich does not account for coherency of forecast distributions. Previous works\nalso silently assume that datasets are always consistent with given\nhierarchical relations and do not adapt to real-world datasets that show\ndeviation from this assumption. We close both these gap and propose PROFHiT,\nwhich is a fully probabilistic hierarchical forecasting model that jointly\nmodels forecast distribution of entire hierarchy. PROFHiT uses a flexible\nprobabilistic Bayesian approach and introduces a novel Distributional Coherency\nregularization to learn from hierarchical relations for entire forecast\ndistribution that enables robust and calibrated forecasts as well as adapt to\ndatasets of varying hierarchical consistency. On evaluating PROFHiT over wide\nrange of datasets, we observed 41-88% better performance in accuracy and\nsignificantly better calibration. Due to modeling the coherency over full\ndistribution, we observed that PROFHiT can robustly provide reliable forecasts\neven if up to 10% of input time-series data is missing where other methods'\nperformance severely degrade by over 70%.\n"
        ],
        [
         "270632",
         "Semiparametric Discrete Choice Models for Bundles",
         "  We propose two approaches to estimate semiparametric discrete choice models\nfor bundles. Our first approach is a kernel-weighted rank estimator based on a\nmatching-based identification strategy. We establish its complete asymptotic\nproperties and prove the validity of the nonparametric bootstrap for inference.\nWe then introduce a new multi-index least absolute deviations (LAD) estimator\nas an alternative, of which the main advantage is its capacity to estimate\npreference parameters on both alternative- and agent-specific regressors. Both\nmethods can account for arbitrary correlation in disturbances across choices,\nwith the former also allowing for interpersonal heteroskedasticity. We also\ndemonstrate that the identification strategy underlying these procedures can be\nextended naturally to panel data settings, producing an analogous localized\nmaximum score estimator and a LAD estimator for estimating bundle choice models\nwith fixed effects. We derive the limiting distribution of the former and\nverify the validity of the numerical bootstrap as an inference tool. All our\nproposed methods can be applied to general multi-index models. Monte Carlo\nexperiments show that they perform well in finite samples.\n"
        ],
        [
         "278255",
         "Attention-based Multi-task Learning for Base Editor Outcome Prediction",
         "  Human genetic diseases often arise from point mutations, emphasizing the\ncritical need for precise genome editing techniques. Among these, base editing\nstands out as it allows targeted alterations at the single nucleotide level.\nHowever, its clinical application is hindered by low editing efficiency and\nunintended mutations, necessitating extensive trial-and-error experimentation\nin the laboratory. To speed up this process, we present an attention-based\ntwo-stage machine learning model that learns to predict the likelihood of all\npossible editing outcomes for a given genomic target sequence. We further\npropose a multi-task learning schema to jointly learn multiple base editors\n(i.e. variants) at once. Our model's predictions consistently demonstrated a\nstrong correlation with the actual experimental results on multiple datasets\nand base editor variants. These results provide further validation for the\nmodels' capacity to enhance and accelerate the process of refining base editing\ndesigns.\n"
        ],
        [
         "284376",
         "Exceptional times for the instantaneous propagation of superprocess",
         "  For a Dawson-Watanabe superprocess $X$ on $\\mathbb{R}^d$, it is shown in\nPerkins (1990) that if the underlying spatial motion belongs to a certain class\nof L\\'evy processes that admit jumps, then with probability one the closed\nsupport of $X_t$ is the whole space for almost all $t>0$ before extinction, the\nso-called ``instantaneous propagation'' property. In this paper for\nsuperprocesses on $\\mathbb{R}^1$ whose spatial motion is the symmetric stable\nprocess of index $\\alpha \\in (0,2/3)$, we prove that there exist exceptional\ntimes at which the support is compact and nonempty. Moreover, we show that the\nset of exceptional times is dense with full Hausdorff dimension. Besides, we\nprove that near extinction, the support of the superprocess is concentrated\narbitrarily close to the distinction point, thus upgrading the corresponding\nresults in Tribe (1992) from $\\alpha \\in (0,1/2)$ to $\\alpha \\in (0,2/3)$, and\nwe further show that the set of such exceptional times also admits a full\nHausdorff dimension.\n"
        ],
        [
         "293359",
         "An Extension of the Non-Inferior Set Estimation Algorithm for Many\n  Objectives",
         "  This work proposes a novel multi-objective optimization approach that\nglobally finds a representative non-inferior set of solutions, also known as\nPareto-optimal solutions, by automatically formulating and solving a sequence\nof weighted sum method scalarization problems. The approach is called MONISE\n(Many-Objective NISE) because it represents an extension of the well-known\nnon-inferior set estimation (NISE) algorithm, which was originally conceived to\ndeal with two-dimensional objective spaces. The proposal is endowed with the\nfollowing characteristics: (1) uses a mixed-integer linear programming\nformulation to operate in two or more dimensions, thus properly supporting many\n(i.e., three or more) objectives; (2) relies on an external algorithm to solve\nthe weighted sum method scalarization problem to optimality; and (3) creates a\nfaithful representation of the Pareto frontier in the case of convex problems,\nand a useful approximation of it in the non-convex case. Moreover, when dealing\nspecifically with two objectives, some additional properties are portrayed for\nthe estimated non-inferior set. Experimental results validate the proposal and\nindicate that MONISE is competitive, in convex and non-convex (combinatorial)\nproblems, both in terms of computational cost and the overall quality of the\nnon-inferior set, measured by the acquired hypervolume.\n"
        ],
        [
         "378229",
         "Effect of the atomic structure of complexions on the active\n  disconnection mode during shear-coupled grain boundary motion",
         "  The migration of grain boundaries leads to grain growth in polycrystals and\nis one mechanism of grain-boundary-mediated plasticity, especially in\nnanocrystalline metals. This migration is due to the movement of\ndislocation-like defects, called disconnections, which couple to externally\napplied shear stresses. While this has been studied in detail in recent years,\nthe active disconnection mode was typically associated with specific\nmacroscopic grain boundary parameters. We know, however, that varying\nmicroscopic degrees of freedom can lead to different atomic structures without\nchanging the macroscopic parameters. These structures can transition into each\nother and are called complexions. Here, we investigate $[11\\overline{1}]$\nsymmetric tilt boundaries in fcc metals, where two complexions -- dubbed domino\nand pearl -- were observed before. We compare these two complexions for two\ndifferent misorientations: In $\\Sigma19$b $[11\\overline{1}]$ $(178)$\nboundaries, both complexions exhibit the same disconnection mode. The critical\nstress for nucleation and propagation of disconnections is nevertheless\ndifferent for domino and pearl. At low temperatures, the Peierls-like barrier\nfor disconnection propagation dominates, while at higher temperatures the\nnucleation is the limiting factor. For $\\Sigma$7 $[11\\overline{1}]$ $(145)$\nboundaries, we observed a larger difference. The domino and pearl complexions\nmigrate in different directions under the same boundary conditions. While both\nmigration directions are possible crystallographically, an analysis of the\ncomplexions' structural motifs and the disconnection core structures reveals\nthat the choice of disconnection mode and therefore migration direction is\ndirectly due to the atomic structure of the grain boundary.\n"
        ],
        [
         "388729",
         "Information-driven Affordance Discovery for Efficient Robotic\n  Manipulation",
         "  Robotic affordances, providing information about what actions can be taken in\na given situation, can aid robotic manipulation. However, learning about\naffordances requires expensive large annotated datasets of interactions or\ndemonstrations. In this work, we argue that well-directed interactions with the\nenvironment can mitigate this problem and propose an information-based measure\nto augment the agent's objective and accelerate the affordance discovery\nprocess. We provide a theoretical justification of our approach and we\nempirically validate the approach both in simulation and real-world tasks. Our\nmethod, which we dub IDA, enables the efficient discovery of visual affordances\nfor several action primitives, such as grasping, stacking objects, or opening\ndrawers, strongly improving data efficiency in simulation, and it allows us to\nlearn grasping affordances in a small number of interactions, on a real-world\nsetup with a UFACTORY XArm 6 robot arm.\n"
        ],
        [
         "395194",
         "Tropical friezes and cluster-additive functions via Fock-Goncharov\n  duality and a conjecture of Ringel",
         "  We study tropical friezes and cluster-additive functions associated to\nsymmetrizable generalized Cartan matrices in the framework of Fock-Goncharov\nduality in cluster algebras. In particular, we generalize and prove a\nconjecture of C. M. Ringel on cluster-additive functions associated to\narbitrary Cartan matrices of finite type. For a Fock-Goncharov dual pair of\npositive spaces of finite type, we use tropical friezes and cluster-additive\nfunctions to explicitly express the Fock-Goncharov pairing between their\ntropical points and the bijections between global monomials on one and tropical\npoints of the other.\n"
        ],
        [
         "423724",
         "Scalable Near-Field Localization Based on Partitioned Large-Scale\n  Antenna Array",
         "  This paper studies a passive localization system, where an extremely\nlarge-scale antenna array (ELAA) is deployed at the base station (BS) to locate\na user equipment (UE) residing in its near-field (Fresnel) region. We propose a\nnovel algorithm, named array partitioning-based location estimation (APLE), for\nscalable near-field localization. The APLE algorithm is developed based on the\nbasic assumption that, by partitioning the ELAA into multiple subarrays, the UE\ncan be approximated as in the far-field region of each subarray. We establish a\nBayeian inference framework based on the geometric constraints between the UE\nlocation and the angles of arrivals (AoAs) at different subarrays. Then, the\nAPLE algorithm is designed based on the message-passing principle for the\nlocalization of the UE. APLE exhibits linear computational complexity with the\nnumber of BS antennas, leading to a significant reduction in complexity\ncompared to existing methods. We further propose an enhanced APLE (E-APLE)\nalgorithm that refines the location estimate obtained from APLE by following\nthe maximum likelihood principle. The E-APLE algorithm achieves superior\nlocalization accuracy compared to APLE while maintaining a linear complexity\nwith the number of BS antennas. Numerical results demonstrate that the proposed\nAPLE and E-APLE algorithms outperform the existing baselines in terms of\nlocalization accuracy.\n"
        ],
        [
         "429377",
         "Error Inhibiting Methods for Finite Elements",
         "  Finite Difference methods (FD) are one of the oldest and simplest methods for\nsolving partial differential equations (PDE). Block Finite Difference methods\n(BFD) are FD methods in which the domain is divided into blocks, or cells,\ncontaining two or more grid points, with a different scheme used for each grid\npoint, unlike the standard FD method.\n  It was shown in recent works that BFD schemes might be one to three orders\nmore accurate than their truncation errors. Due to these schemes' ability to\ninhibit the accumulation of truncation errors, these methods were called Error\nInhibiting Schemes (EIS).\n  This manuscript shows that our BFD schemes can be viewed as a particular type\nof Discontinuous Galerkin (DG) method. Then, we prove the BFD scheme's\nstability using the standard DG procedure while using a Fourier-like analysis\nto establish its optimal convergence rate.\n  We present numerical examples in one and two dimensions to demonstrate the\nefficacy of these schemes.\n"
        ],
        [
         "435221",
         "No-$\\pi$ schemes for multi-coupling theories",
         "  We show that even $\\zeta$-functions may be removed from the $\\beta$-functions\nof general multi-coupling theories up to high loop order by means of coupling\nredefinitions. For theories whose $\\beta$-function is determined by the\nanomalous dimensions of the fields, such as supersymmetric theories, this\ncorresponds to a renormalisation scheme change to a momentum subtraction\nscheme.\n"
        ],
        [
         "442950",
         "Certified simultaneous isotopic approximation of curves via subdivision",
         "  We present a certified algorithm based on subdivision for computing an\nisotopic approximation to any number of curves in the plane. Our algorithm is\nbased on the certified curve approximation algorithm of Plantinga and Vegter.\nThe main challenge in this algorithm is to correctly and efficiently identify\nand isolate all intersections between the curves. To overcome this challenge,\nwe introduce a new and simple test that guarantees the global correctness of\nour output. A main step in our algorithm for approximating any number of curves\nis to correctly approximate a pair of curves. In addition to developing the\ndetails of this special case, we provide complexity analyses for both the\nnumber of steps and the bit-complexity of this algorithm using both worst-case\nbounds as well as those based on continuous amortization.\n"
        ],
        [
         "443982",
         "Some Lower Dimensional Quantum Field Theories Reduced from Chern-Simons\n  Gauge Theories",
         "  We study symmetry reductions in the context of Euclidean Chern-Simons gauge\ntheories to obtain lower dimensional field theories. Symmetry reduction in\ncertain gauge theories is a common tool for obtaining explicit soliton\nsolutions. Although pure Chern-Simons theories do not admit solitonic\nsolutions, symmetry reduction still leads to interesting results. We establish\nrelations at the semiclassical regime between pure Chern-Simons theories on\n$S^3$ and the reduced Quantum Field Theories, based on actions obtained by the\nsymmetry reduction of the Chern-Simons action, spherical symmetry being the\nprominent one. We also discuss symmetry reductions of Chern-Simons theories on\nthe disk, yielding $BF$-theory in two dimensions, which signals a curious\nrelationship between symmetry reductions and the boundary conformal field\ntheories. Finally, we study the Chern-Simons-Higgs instantons and show that\nunder certain circumstances, the reduced action can formally be viewed as the\naction of a supersymmetric quantum mechanical model. We discuss the extent to\nwhich the reduced actions have a fermionic nature at the level of the partition\nfunction.\n"
        ],
        [
         "465653",
         "An Empirical Study on Information Extraction using Large Language Models",
         "  Human-like large language models (LLMs), especially the most powerful and\npopular ones in OpenAI's GPT family, have proven to be very helpful for many\nnatural language processing (NLP) related tasks. Therefore, various attempts\nhave been made to apply LLMs to information extraction (IE), which is a\nfundamental NLP task that involves extracting information from unstructured\nplain text. To demonstrate the latest representative progress in LLMs'\ninformation extraction ability, we assess the information extraction ability of\nGPT-4 (the latest version of GPT at the time of writing this paper) from four\nperspectives: Performance, Evaluation Criteria, Robustness, and Error Types.\nOur results suggest a visible performance gap between GPT-4 and\nstate-of-the-art (SOTA) IE methods. To alleviate this problem, considering the\nLLMs' human-like characteristics, we propose and analyze the effects of a\nseries of simple prompt-based methods, which can be generalized to other LLMs\nand NLP tasks. Rich experiments show our methods' effectiveness and some of\ntheir remaining issues in improving GPT-4's information extraction ability.\n"
        ],
        [
         "477486",
         "ScaleFlow++: Robust and Accurate Estimation of 3D Motion from Video",
         "  Perceiving and understanding 3D motion is a core technology in fields such as\nautonomous driving, robots, and motion prediction. This paper proposes a 3D\nmotion perception method called ScaleFlow++ that is easy to generalize. With\njust a pair of RGB images, ScaleFlow++ can robustly estimate optical flow and\nmotion-in-depth (MID). Most existing methods directly regress MID from two RGB\nframes or optical flow, resulting in inaccurate and unstable results. Our key\ninsight is cross-scale matching, which extracts deep motion clues by matching\nobjects in pairs of images at different scales. Unlike previous methods,\nScaleFlow++ integrates optical flow and MID estimation into a unified\narchitecture, estimating optical flow and MID end-to-end based on feature\nmatching. Moreover, we also proposed modules such as global initialization\nnetwork, global iterative optimizer, and hybrid training pipeline to integrate\nglobal motion information, reduce the number of iterations, and prevent\noverfitting during training. On KITTI, ScaleFlow++ achieved the best monocular\nscene flow estimation performance, reducing SF-all from 6.21 to 5.79. The\nevaluation of MID even surpasses RGBD-based methods. In addition, ScaleFlow++\nhas achieved stunning zero-shot generalization performance in both rigid and\nnonrigid scenes. Code is available at\n\\url{https://github.com/HanLingsgjk/CSCV}.\n"
        ],
        [
         "556825",
         "LGL-BCI: A Motor-Imagery-Based Brain-Computer Interface with Geometric\n  Learning",
         "  Brain--computer interfaces are groundbreaking technology whereby brain\nsignals are used to control external devices. Despite some advances in recent\nyears, electroencephalogram (EEG)-based motor-imagery tasks face challenges,\nsuch as amplitude and phase variability and complex spatial correlations, with\na need for smaller models and faster inference. In this study, we develop a\nprototype, called the Lightweight Geometric Learning Brain--Computer Interface\n(LGL-BCI), which uses our customized geometric deep learning architecture for\nswift model inference without sacrificing accuracy. LGL-BCI contains an EEG\nchannel selection module via a feature decomposition algorithm to reduce the\ndimensionality of a symmetric positive definite matrix, providing adaptiveness\namong the continuously changing EEG signal. Meanwhile, a built-in lossless\ntransformation helps boost the inference speed. The performance of our solution\nwas evaluated using two real-world EEG devices and two public EEG datasets.\nLGL-BCI demonstrated significant improvements, achieving an accuracy of 82.54%\ncompared to 62.22% for the state-of-the-art approach. Furthermore, LGL-BCI uses\nfewer parameters (64.9K vs. 183.7K), highlighting its computational efficiency.\nThese findings underscore both the superior accuracy and computational\nefficiency of LGL-BCI, demonstrating the feasibility and robustness of\ngeometric deep learning in motor-imagery brain--computer interface\napplications.\n"
        ],
        [
         "567725",
         "Nonparametric Sparse Online Learning of the Koopman Operator",
         "  The Koopman operator provides a powerful framework for representing the\ndynamics of general nonlinear dynamical systems. Data-driven techniques to\nlearn the Koopman operator typically assume that the chosen function space is\nclosed under system dynamics. In this paper, we study the Koopman operator via\nits action on the reproducing kernel Hilbert space (RKHS), and explore the\nmis-specified scenario where the dynamics may escape the chosen function space.\nWe relate the Koopman operator to the conditional mean embeddings (CME)\noperator and then present an operator stochastic approximation algorithm to\nlearn the Koopman operator iteratively with control over the complexity of the\nrepresentation. We provide both asymptotic and finite-time last-iterate\nguarantees of the online sparse learning algorithm with trajectory-based\nsampling with an analysis that is substantially more involved than that for\nfinite-dimensional stochastic approximation. Numerical examples confirm the\neffectiveness of the proposed algorithm.\n"
        ],
        [
         "573560",
         "Interactive Symbolic Regression through Offline Reinforcement Learning:\n  A Co-Design Framework",
         "  Symbolic Regression (SR) holds great potential for uncovering underlying\nmathematical and physical relationships from observed data. However, the vast\ncombinatorial space of possible expressions poses significant challenges for\nboth online search methods and pre-trained transformer models. Additionally,\ncurrent state-of-the-art approaches typically do not consider the integration\nof domain experts' prior knowledge and do not support iterative interactions\nwith the model during the equation discovery process. To address these\nchallenges, we propose the Symbolic Q-network (Sym-Q), an advanced interactive\nframework for large-scale symbolic regression. Unlike previous large-scale\ntransformer-based SR approaches, Sym-Q leverages reinforcement learning without\nrelying on a transformer-based decoder. This formulation allows the agent to\nlearn through offline reinforcement learning using any type of tree encoder,\nenabling more efficient training and inference. Furthermore, we propose a\nco-design mechanism, where the reinforcement learning-based Sym-Q facilitates\neffective interaction with domain experts at any stage of the equation\ndiscovery process. Users can dynamically modify generated nodes of the\nexpression, collaborating with the agent to tailor the mathematical expression\nto best fit the problem and align with the assumed physical laws, particularly\nwhen there is prior partial knowledge of the expected behavior. Our experiments\ndemonstrate that the pre-trained Sym-Q surpasses existing SR algorithms on the\nchallenging SSDNC benchmark. Moreover, we experimentally show on real-world\ncases that its performance can be further enhanced by the interactive co-design\nmechanism, with Sym-Q achieving greater performance gains than other\nstate-of-the-art models. Our reproducible code is available at\nhttps://github.com/EPFL-IMOS/Sym-Q.\n"
        ],
        [
         "590250",
         "Revisiting Word Embeddings in the LLM Era",
         "  Large Language Models (LLMs) have recently shown remarkable advancement in\nvarious NLP tasks. As such, a popular trend has emerged lately where NLP\nresearchers extract word/sentence/document embeddings from these large\ndecoder-only models and use them for various inference tasks with promising\nresults. However, it is still unclear whether the performance improvement of\nLLM-induced embeddings is merely because of scale or whether underlying\nembeddings they produce significantly differ from classical encoding models\nlike Word2Vec, GloVe, Sentence-BERT (SBERT) or Universal Sentence Encoder\n(USE). This is the central question we investigate in the paper by\nsystematically comparing classical decontextualized and contextualized word\nembeddings with the same for LLM-induced embeddings. Our results show that LLMs\ncluster semantically related words more tightly and perform better on analogy\ntasks in decontextualized settings. However, in contextualized settings,\nclassical models like SimCSE often outperform LLMs in sentence-level similarity\nassessment tasks, highlighting their continued relevance for fine-grained\nsemantics.\n"
        ],
        [
         "603008",
         "Spectral statistics along sequences of irreducible representations",
         "  We discuss the nearest neighbor distribution of the eigenvalues for hermitian\ngenerators in the Lie algebra of a semisimple complex Lie Group along a\nsequence of irreducible representations. After the basic definitions a limit\ntheorem for rays of irreducible representation is formulated. Then it is proved\nthat only a certain kind of rescaling will give meaning full results in the\ngeneral case. Finally, we give explicit formulas for the Lipkin operator in the\ncase of SU(3).\n"
        ],
        [
         "603010",
         "Confined One Dimensional Harmonic Oscillator as a Two-Mode System",
         "  The one-dimensional harmonic oscillator in a box problem is possibly the\nsimplest example of a two-mode system. This system has two exactly solvable\nlimits, the harmonic oscillator and a particle in a (one-dimensional) box. Each\nof the two limits has a characteristic spectral structure describing the two\ndifferent excitation modes of the system. Near each of these limits, one can\nuse perturbation theory to achieve an accurate description of the eigenstates.\nAway from the exact limits, however, one has to carry out a matrix\ndiagonalization because the basis-state mixing that occurs is typically too\nlarge to be reproduced in any other way. An alternative to casting the problem\nin terms of one or the other basis set consists of using an \"oblique\" basis\nthat uses both sets. Through a study of this alternative in this\none-dimensional problem, we are able to illustrate practical solutions and\ninfer the applicability of the concept for more complex systems, such as in the\nstudy of complex nuclei where oblique-basis calculations have been successful.\nKeywords: one-dimensional harmonic oscillator, particle in a box, exactly\nsolvable models, two-mode system, oblique basis states, perturbation theory,\ncoherent states, adiabatic mixing.\n"
        ],
        [
         "603012",
         "Scattering in relativistic quantum field theory: basic concepts, tools,\n  and results",
         "  We provide an overview of basic concepts, tools, and results of quantum field\ntheoretical scattering theory. This article is prepared for the second edition\nof the Encyclopedia of Mathematical Physics, edited by M. Bojowald and R.J.\nSzabo, to be published by Elsevier.\n"
        ],
        [
         "603015",
         "Confined One Dimensional Harmonic Oscillator as a Two-Mode System",
         "  The one-dimensional harmonic oscillator in a box problem is possibly the\nsimplest example of a two-mode system. This system has two exactly solvable\nlimits, the harmonic oscillator and a particle in a (one-dimensional) box. Each\nof the two limits has a characteristic spectral structure describing the two\ndifferent excitation modes of the system. Near each of these limits, one can\nuse perturbation theory to achieve an accurate description of the eigenstates.\nAway from the exact limits, however, one has to carry out a matrix\ndiagonalization because the basis-state mixing that occurs is typically too\nlarge to be reproduced in any other way. An alternative to casting the problem\nin terms of one or the other basis set consists of using an \"oblique\" basis\nthat uses both sets. Through a study of this alternative in this\none-dimensional problem, we are able to illustrate practical solutions and\ninfer the applicability of the concept for more complex systems, such as in the\nstudy of complex nuclei where oblique-basis calculations have been successful.\nKeywords: one-dimensional harmonic oscillator, particle in a box, exactly\nsolvable models, two-mode system, oblique basis states, perturbation theory,\ncoherent states, adiabatic mixing.\n"
        ],
        [
         "603018",
         "Magnetic monopoles and Lorentz force",
         "  The formulation of a generalized classical electromagnetism that includes\nboth electric and magnetic charges, is explored in the framework of two\npotential approach. It is shown that it is possible to write an action integral\nfrom which one can derive, by least action principle, the symmetrized set of\nMaxwell's equations, but also the Lorentz force law by employing the\nenergy-momentum tensor conservation.\n"
        ],
        [
         "603022",
         "Galilean relativity and its invariant bilinear forms",
         "  We construct the family of bilinear forms gG on R3+1 for which Galilean\nboosts and spatial rotations are isometries. The key feature of these bilinear\nforms is that they are parametrized by a Galilean invariant vector whose\nphysical interpretation is rather unclear. At the end of the paper, we\nconstruct the Poisson bracket associated with the (nondegenerate) antisymmetric\npart of gG.\n"
        ],
        [
         "603029",
         "Scattering in relativistic quantum field theory: basic concepts, tools,\n  and results",
         "  We provide an overview of basic concepts, tools, and results of quantum field\ntheoretical scattering theory. This article is prepared for the second edition\nof the Encyclopedia of Mathematical Physics, edited by M. Bojowald and R.J.\nSzabo, to be published by Elsevier.\n"
        ],
        [
         "603030",
         "Galilean relativity and its invariant bilinear forms",
         "  We construct the family of bilinear forms gG on R3+1 for which Galilean\nboosts and spatial rotations are isometries. The key feature of these bilinear\nforms is that they are parametrized by a Galilean invariant vector whose\nphysical interpretation is rather unclear. At the end of the paper, we\nconstruct the Poisson bracket associated with the (nondegenerate) antisymmetric\npart of gG.\n"
        ],
        [
         "603032",
         "The Schroedinger operator in Newtonian space-time",
         "  The Schroedinger operator on the Newtonian space-time is defined in a way\nwhich is independent on the class of inertial observers. In this picture the\nSchroedinger operator acts not on functions on the space-time but on sections\nof certain one-dimensional complex vector bundle over space-time. This bundle,\nconstructed from the data provided by all possible inertial observers, has no\ncanonical trivialization, so these sections cannot be viewed as functions on\nthe space-time. The presented framework is conceptually four-dimensional and\ndoes not involve any ad hoc or axiomatically introduced geometrical structures.\nIt is based only on the traditional understanding of the Schroedinger operator\nin a given reference frame and it turns out to be strictly related to the\nframe-independent formulation of analytical Newtonian mechanics that makes a\nbridge between the classical and quantum theory.\n"
        ],
        [
         "603035",
         "Existence of Atoms and Molecules in the Mean-Field Approximation of\n  No-Photon Quantum Electrodynamics",
         "  The Bogoliubov-Dirac-Fock (BDF) model is the mean-field approximation of\nno-photon Quantum Electrodynamics. The present paper is devoted to the study of\nthe minimization of the BDF energy functional under a charge constraint. An\nassociated minimizer, if it exists, will usually represent the ground state of\na system of $N$ electrons interacting with the Dirac sea, in an external\nelectrostatic field generated by one or several fixed nuclei. We prove that\nsuch a minimizer exists when a binding (HVZ-type) condition holds. We also\nderive, study and interpret the equation satisfied by such a minimizer.\n  Finally, we provide two regimes in which the binding condition is fulfilled,\nobtaining the existence of a minimizer in these cases. The first is the weak\ncoupling regime for which the coupling constant $\\alpha$ is small whereas\n$\\alpha Z$ and the particle number $N$ are fixed. The second is the\nnon-relativistic regime in which the speed of light tends to infinity (or\nequivalently $\\alpha$ tends to zero) and $Z$, $N$ are fixed. We also prove that\nthe electronic solution converges in the non-relativistic limit towards a\nHartree-Fock ground state.\n"
        ]
       ],
       "shape": {
        "columns": 2,
        "rows": 43
       }
      },
      "text/html": [
       "<div>\n",
       "<style scoped>\n",
       "    .dataframe tbody tr th:only-of-type {\n",
       "        vertical-align: middle;\n",
       "    }\n",
       "\n",
       "    .dataframe tbody tr th {\n",
       "        vertical-align: top;\n",
       "    }\n",
       "\n",
       "    .dataframe thead th {\n",
       "        text-align: right;\n",
       "    }\n",
       "</style>\n",
       "<table border=\"1\" class=\"dataframe\">\n",
       "  <thead>\n",
       "    <tr style=\"text-align: right;\">\n",
       "      <th></th>\n",
       "      <th>title</th>\n",
       "      <th>abstract</th>\n",
       "    </tr>\n",
       "  </thead>\n",
       "  <tbody>\n",
       "    <tr>\n",
       "      <th>64052</th>\n",
       "      <td>A Diamond Structure in the Transducer Hierarchy</td>\n",
       "      <td>We answer an open question in the theory of ...</td>\n",
       "    </tr>\n",
       "    <tr>\n",
       "      <th>78389</th>\n",
       "      <td>Distributionally Robust Multiclass Classificat...</td>\n",
       "      <td>We develop a Distributionally Robust Optimiz...</td>\n",
       "    </tr>\n",
       "    <tr>\n",
       "      <th>109913</th>\n",
       "      <td>Causal Graph Discovery from Self and Mutually ...</td>\n",
       "      <td>We present a generalized linear structural c...</td>\n",
       "    </tr>\n",
       "    <tr>\n",
       "      <th>142197</th>\n",
       "      <td>Weak error analysis for strong approximation s...</td>\n",
       "      <td>We present an error analysis of weak converg...</td>\n",
       "    </tr>\n",
       "    <tr>\n",
       "      <th>166618</th>\n",
       "      <td>Novel structure-preserving schemes for stochas...</td>\n",
       "      <td>Stochastic Klein--Gordon--Schr\\\"odinger (KGS...</td>\n",
       "    </tr>\n",
       "    <tr>\n",
       "      <th>166651</th>\n",
       "      <td>Mover: Mask and Recovery based Facial Part Con...</td>\n",
       "      <td>Deepfake techniques have been widely used fo...</td>\n",
       "    </tr>\n",
       "    <tr>\n",
       "      <th>181340</th>\n",
       "      <td>Gravitational waves in scalar-tensor theory to...</td>\n",
       "      <td>We compute the gravitational waves generated...</td>\n",
       "    </tr>\n",
       "    <tr>\n",
       "      <th>182761</th>\n",
       "      <td>Solving Differential-Algebraic Equations in Po...</td>\n",
       "      <td>Power system dynamics are generally modeled ...</td>\n",
       "    </tr>\n",
       "    <tr>\n",
       "      <th>191334</th>\n",
       "      <td>Improving Generalizability of Graph Anomaly De...</td>\n",
       "      <td>Graph anomaly detection (GAD) is a vital tas...</td>\n",
       "    </tr>\n",
       "    <tr>\n",
       "      <th>208062</th>\n",
       "      <td>Impact of nuclear structure on longitudinal fl...</td>\n",
       "      <td>Fluctuations of harmonic flow along pseudora...</td>\n",
       "    </tr>\n",
       "    <tr>\n",
       "      <th>209152</th>\n",
       "      <td>Analytic Solution for the Revised Helicity Evo...</td>\n",
       "      <td>We construct an exact analytic solution of t...</td>\n",
       "    </tr>\n",
       "    <tr>\n",
       "      <th>235131</th>\n",
       "      <td>Episodic Logit-Q Dynamics for Efficient Learni...</td>\n",
       "      <td>We present new learning dynamics combining (...</td>\n",
       "    </tr>\n",
       "    <tr>\n",
       "      <th>243873</th>\n",
       "      <td>CNNs for JPEGs: A Study in Computational Cost</td>\n",
       "      <td>Convolutional neural networks (CNNs) have ac...</td>\n",
       "    </tr>\n",
       "    <tr>\n",
       "      <th>250910</th>\n",
       "      <td>Counterfactual Causality for Reachability and ...</td>\n",
       "      <td>Investigations of causality in operational s...</td>\n",
       "    </tr>\n",
       "    <tr>\n",
       "      <th>261478</th>\n",
       "      <td>When Rigidity Hurts: Soft Consistency Regulari...</td>\n",
       "      <td>Probabilistic hierarchical time-series forec...</td>\n",
       "    </tr>\n",
       "    <tr>\n",
       "      <th>270632</th>\n",
       "      <td>Semiparametric Discrete Choice Models for Bundles</td>\n",
       "      <td>We propose two approaches to estimate semipa...</td>\n",
       "    </tr>\n",
       "    <tr>\n",
       "      <th>278255</th>\n",
       "      <td>Attention-based Multi-task Learning for Base E...</td>\n",
       "      <td>Human genetic diseases often arise from poin...</td>\n",
       "    </tr>\n",
       "    <tr>\n",
       "      <th>284376</th>\n",
       "      <td>Exceptional times for the instantaneous propag...</td>\n",
       "      <td>For a Dawson-Watanabe superprocess $X$ on $\\...</td>\n",
       "    </tr>\n",
       "    <tr>\n",
       "      <th>293359</th>\n",
       "      <td>An Extension of the Non-Inferior Set Estimatio...</td>\n",
       "      <td>This work proposes a novel multi-objective o...</td>\n",
       "    </tr>\n",
       "    <tr>\n",
       "      <th>378229</th>\n",
       "      <td>Effect of the atomic structure of complexions ...</td>\n",
       "      <td>The migration of grain boundaries leads to g...</td>\n",
       "    </tr>\n",
       "    <tr>\n",
       "      <th>388729</th>\n",
       "      <td>Information-driven Affordance Discovery for Ef...</td>\n",
       "      <td>Robotic affordances, providing information a...</td>\n",
       "    </tr>\n",
       "    <tr>\n",
       "      <th>395194</th>\n",
       "      <td>Tropical friezes and cluster-additive function...</td>\n",
       "      <td>We study tropical friezes and cluster-additi...</td>\n",
       "    </tr>\n",
       "    <tr>\n",
       "      <th>423724</th>\n",
       "      <td>Scalable Near-Field Localization Based on Part...</td>\n",
       "      <td>This paper studies a passive localization sy...</td>\n",
       "    </tr>\n",
       "    <tr>\n",
       "      <th>429377</th>\n",
       "      <td>Error Inhibiting Methods for Finite Elements</td>\n",
       "      <td>Finite Difference methods (FD) are one of th...</td>\n",
       "    </tr>\n",
       "    <tr>\n",
       "      <th>435221</th>\n",
       "      <td>No-$\\pi$ schemes for multi-coupling theories</td>\n",
       "      <td>We show that even $\\zeta$-functions may be r...</td>\n",
       "    </tr>\n",
       "    <tr>\n",
       "      <th>442950</th>\n",
       "      <td>Certified simultaneous isotopic approximation ...</td>\n",
       "      <td>We present a certified algorithm based on su...</td>\n",
       "    </tr>\n",
       "    <tr>\n",
       "      <th>443982</th>\n",
       "      <td>Some Lower Dimensional Quantum Field Theories ...</td>\n",
       "      <td>We study symmetry reductions in the context ...</td>\n",
       "    </tr>\n",
       "    <tr>\n",
       "      <th>465653</th>\n",
       "      <td>An Empirical Study on Information Extraction u...</td>\n",
       "      <td>Human-like large language models (LLMs), esp...</td>\n",
       "    </tr>\n",
       "    <tr>\n",
       "      <th>477486</th>\n",
       "      <td>ScaleFlow++: Robust and Accurate Estimation of...</td>\n",
       "      <td>Perceiving and understanding 3D motion is a ...</td>\n",
       "    </tr>\n",
       "    <tr>\n",
       "      <th>556825</th>\n",
       "      <td>LGL-BCI: A Motor-Imagery-Based Brain-Computer ...</td>\n",
       "      <td>Brain--computer interfaces are groundbreakin...</td>\n",
       "    </tr>\n",
       "    <tr>\n",
       "      <th>567725</th>\n",
       "      <td>Nonparametric Sparse Online Learning of the Ko...</td>\n",
       "      <td>The Koopman operator provides a powerful fra...</td>\n",
       "    </tr>\n",
       "    <tr>\n",
       "      <th>573560</th>\n",
       "      <td>Interactive Symbolic Regression through Offlin...</td>\n",
       "      <td>Symbolic Regression (SR) holds great potenti...</td>\n",
       "    </tr>\n",
       "    <tr>\n",
       "      <th>590250</th>\n",
       "      <td>Revisiting Word Embeddings in the LLM Era</td>\n",
       "      <td>Large Language Models (LLMs) have recently s...</td>\n",
       "    </tr>\n",
       "    <tr>\n",
       "      <th>603008</th>\n",
       "      <td>Spectral statistics along sequences of irreduc...</td>\n",
       "      <td>We discuss the nearest neighbor distribution...</td>\n",
       "    </tr>\n",
       "    <tr>\n",
       "      <th>603010</th>\n",
       "      <td>Confined One Dimensional Harmonic Oscillator a...</td>\n",
       "      <td>The one-dimensional harmonic oscillator in a...</td>\n",
       "    </tr>\n",
       "    <tr>\n",
       "      <th>603012</th>\n",
       "      <td>Scattering in relativistic quantum field theor...</td>\n",
       "      <td>We provide an overview of basic concepts, to...</td>\n",
       "    </tr>\n",
       "    <tr>\n",
       "      <th>603015</th>\n",
       "      <td>Confined One Dimensional Harmonic Oscillator a...</td>\n",
       "      <td>The one-dimensional harmonic oscillator in a...</td>\n",
       "    </tr>\n",
       "    <tr>\n",
       "      <th>603018</th>\n",
       "      <td>Magnetic monopoles and Lorentz force</td>\n",
       "      <td>The formulation of a generalized classical e...</td>\n",
       "    </tr>\n",
       "    <tr>\n",
       "      <th>603022</th>\n",
       "      <td>Galilean relativity and its invariant bilinear...</td>\n",
       "      <td>We construct the family of bilinear forms gG...</td>\n",
       "    </tr>\n",
       "    <tr>\n",
       "      <th>603029</th>\n",
       "      <td>Scattering in relativistic quantum field theor...</td>\n",
       "      <td>We provide an overview of basic concepts, to...</td>\n",
       "    </tr>\n",
       "    <tr>\n",
       "      <th>603030</th>\n",
       "      <td>Galilean relativity and its invariant bilinear...</td>\n",
       "      <td>We construct the family of bilinear forms gG...</td>\n",
       "    </tr>\n",
       "    <tr>\n",
       "      <th>603032</th>\n",
       "      <td>The Schroedinger operator in Newtonian space-time</td>\n",
       "      <td>The Schroedinger operator on the Newtonian s...</td>\n",
       "    </tr>\n",
       "    <tr>\n",
       "      <th>603035</th>\n",
       "      <td>Existence of Atoms and Molecules in the Mean-F...</td>\n",
       "      <td>The Bogoliubov-Dirac-Fock (BDF) model is the...</td>\n",
       "    </tr>\n",
       "  </tbody>\n",
       "</table>\n",
       "</div>"
      ],
      "text/plain": [
       "                                                    title  \\\n",
       "64052     A Diamond Structure in the Transducer Hierarchy   \n",
       "78389   Distributionally Robust Multiclass Classificat...   \n",
       "109913  Causal Graph Discovery from Self and Mutually ...   \n",
       "142197  Weak error analysis for strong approximation s...   \n",
       "166618  Novel structure-preserving schemes for stochas...   \n",
       "166651  Mover: Mask and Recovery based Facial Part Con...   \n",
       "181340  Gravitational waves in scalar-tensor theory to...   \n",
       "182761  Solving Differential-Algebraic Equations in Po...   \n",
       "191334  Improving Generalizability of Graph Anomaly De...   \n",
       "208062  Impact of nuclear structure on longitudinal fl...   \n",
       "209152  Analytic Solution for the Revised Helicity Evo...   \n",
       "235131  Episodic Logit-Q Dynamics for Efficient Learni...   \n",
       "243873      CNNs for JPEGs: A Study in Computational Cost   \n",
       "250910  Counterfactual Causality for Reachability and ...   \n",
       "261478  When Rigidity Hurts: Soft Consistency Regulari...   \n",
       "270632  Semiparametric Discrete Choice Models for Bundles   \n",
       "278255  Attention-based Multi-task Learning for Base E...   \n",
       "284376  Exceptional times for the instantaneous propag...   \n",
       "293359  An Extension of the Non-Inferior Set Estimatio...   \n",
       "378229  Effect of the atomic structure of complexions ...   \n",
       "388729  Information-driven Affordance Discovery for Ef...   \n",
       "395194  Tropical friezes and cluster-additive function...   \n",
       "423724  Scalable Near-Field Localization Based on Part...   \n",
       "429377       Error Inhibiting Methods for Finite Elements   \n",
       "435221       No-$\\pi$ schemes for multi-coupling theories   \n",
       "442950  Certified simultaneous isotopic approximation ...   \n",
       "443982  Some Lower Dimensional Quantum Field Theories ...   \n",
       "465653  An Empirical Study on Information Extraction u...   \n",
       "477486  ScaleFlow++: Robust and Accurate Estimation of...   \n",
       "556825  LGL-BCI: A Motor-Imagery-Based Brain-Computer ...   \n",
       "567725  Nonparametric Sparse Online Learning of the Ko...   \n",
       "573560  Interactive Symbolic Regression through Offlin...   \n",
       "590250          Revisiting Word Embeddings in the LLM Era   \n",
       "603008  Spectral statistics along sequences of irreduc...   \n",
       "603010  Confined One Dimensional Harmonic Oscillator a...   \n",
       "603012  Scattering in relativistic quantum field theor...   \n",
       "603015  Confined One Dimensional Harmonic Oscillator a...   \n",
       "603018               Magnetic monopoles and Lorentz force   \n",
       "603022  Galilean relativity and its invariant bilinear...   \n",
       "603029  Scattering in relativistic quantum field theor...   \n",
       "603030  Galilean relativity and its invariant bilinear...   \n",
       "603032  The Schroedinger operator in Newtonian space-time   \n",
       "603035  Existence of Atoms and Molecules in the Mean-F...   \n",
       "\n",
       "                                                 abstract  \n",
       "64052     We answer an open question in the theory of ...  \n",
       "78389     We develop a Distributionally Robust Optimiz...  \n",
       "109913    We present a generalized linear structural c...  \n",
       "142197    We present an error analysis of weak converg...  \n",
       "166618    Stochastic Klein--Gordon--Schr\\\"odinger (KGS...  \n",
       "166651    Deepfake techniques have been widely used fo...  \n",
       "181340    We compute the gravitational waves generated...  \n",
       "182761    Power system dynamics are generally modeled ...  \n",
       "191334    Graph anomaly detection (GAD) is a vital tas...  \n",
       "208062    Fluctuations of harmonic flow along pseudora...  \n",
       "209152    We construct an exact analytic solution of t...  \n",
       "235131    We present new learning dynamics combining (...  \n",
       "243873    Convolutional neural networks (CNNs) have ac...  \n",
       "250910    Investigations of causality in operational s...  \n",
       "261478    Probabilistic hierarchical time-series forec...  \n",
       "270632    We propose two approaches to estimate semipa...  \n",
       "278255    Human genetic diseases often arise from poin...  \n",
       "284376    For a Dawson-Watanabe superprocess $X$ on $\\...  \n",
       "293359    This work proposes a novel multi-objective o...  \n",
       "378229    The migration of grain boundaries leads to g...  \n",
       "388729    Robotic affordances, providing information a...  \n",
       "395194    We study tropical friezes and cluster-additi...  \n",
       "423724    This paper studies a passive localization sy...  \n",
       "429377    Finite Difference methods (FD) are one of th...  \n",
       "435221    We show that even $\\zeta$-functions may be r...  \n",
       "442950    We present a certified algorithm based on su...  \n",
       "443982    We study symmetry reductions in the context ...  \n",
       "465653    Human-like large language models (LLMs), esp...  \n",
       "477486    Perceiving and understanding 3D motion is a ...  \n",
       "556825    Brain--computer interfaces are groundbreakin...  \n",
       "567725    The Koopman operator provides a powerful fra...  \n",
       "573560    Symbolic Regression (SR) holds great potenti...  \n",
       "590250    Large Language Models (LLMs) have recently s...  \n",
       "603008    We discuss the nearest neighbor distribution...  \n",
       "603010    The one-dimensional harmonic oscillator in a...  \n",
       "603012    We provide an overview of basic concepts, to...  \n",
       "603015    The one-dimensional harmonic oscillator in a...  \n",
       "603018    The formulation of a generalized classical e...  \n",
       "603022    We construct the family of bilinear forms gG...  \n",
       "603029    We provide an overview of basic concepts, to...  \n",
       "603030    We construct the family of bilinear forms gG...  \n",
       "603032    The Schroedinger operator on the Newtonian s...  \n",
       "603035    The Bogoliubov-Dirac-Fock (BDF) model is the...  "
      ]
     },
     "execution_count": 11,
     "metadata": {},
     "output_type": "execute_result"
    }
   ],
   "source": [
    "arxiv_df[arxiv_df.duplicated()]\n"
   ]
  },
  {
   "cell_type": "code",
   "execution_count": 12,
   "metadata": {},
   "outputs": [],
   "source": [
    "arxiv_df.drop_duplicates(inplace=True)\n"
   ]
  },
  {
   "cell_type": "code",
   "execution_count": 13,
   "metadata": {},
   "outputs": [],
   "source": [
    "arxiv_df.rename(columns={'title': 'Title'}, inplace=True)\n"
   ]
  },
  {
   "cell_type": "code",
   "execution_count": 14,
   "metadata": {},
   "outputs": [],
   "source": [
    "arxiv_df.rename(columns={'abstract': 'Abstract'}, inplace=True)\n"
   ]
  },
  {
   "cell_type": "code",
   "execution_count": 15,
   "metadata": {},
   "outputs": [],
   "source": [
    "contraction_mapping = {\"ain't\": \"is not\", \"aren't\": \"are not\",\"can't\": \"cannot\", \"'cause\": \"because\", \"could've\": \"could have\", \"couldn't\": \"could not\",\n",
    "\n",
    "                           \"didn't\": \"did not\", \"doesn't\": \"does not\", \"don't\": \"do not\", \"hadn't\": \"had not\", \"hasn't\": \"has not\", \"haven't\": \"have not\",\n",
    "\n",
    "                           \"he'd\": \"he would\",\"he'll\": \"he will\", \"he's\": \"he is\", \"how'd\": \"how did\", \"how'd'y\": \"how do you\", \"how'll\": \"how will\", \"how's\": \"how is\",\n",
    "\n",
    "                           \"I'd\": \"I would\", \"I'd've\": \"I would have\", \"I'll\": \"I will\", \"I'll've\": \"I will have\",\"I'm\": \"I am\", \"I've\": \"I have\", \"i'd\": \"i would\",\n",
    "\n",
    "                           \"i'd've\": \"i would have\", \"i'll\": \"i will\",  \"i'll've\": \"i will have\",\"i'm\": \"i am\", \"i've\": \"i have\", \"isn't\": \"is not\", \"it'd\": \"it would\",\n",
    "\n",
    "                           \"it'd've\": \"it would have\", \"it'll\": \"it will\", \"it'll've\": \"it will have\",\"it's\": \"it is\", \"let's\": \"let us\", \"ma'am\": \"madam\",\n",
    "\n",
    "                           \"mayn't\": \"may not\", \"might've\": \"might have\",\"mightn't\": \"might not\",\"mightn't've\": \"might not have\", \"must've\": \"must have\",\n",
    "\n",
    "                           \"mustn't\": \"must not\", \"mustn't've\": \"must not have\", \"needn't\": \"need not\", \"needn't've\": \"need not have\",\"o'clock\": \"of the clock\",\n",
    "\n",
    "                           \"oughtn't\": \"ought not\", \"oughtn't've\": \"ought not have\", \"shan't\": \"shall not\", \"sha'n't\": \"shall not\", \"shan't've\": \"shall not have\",\n",
    "\n",
    "                           \"she'd\": \"she would\", \"she'd've\": \"she would have\", \"she'll\": \"she will\", \"she'll've\": \"she will have\", \"she's\": \"she is\",\n",
    "\n",
    "                           \"should've\": \"should have\", \"shouldn't\": \"should not\", \"shouldn't've\": \"should not have\", \"so've\": \"so have\",\"so's\": \"so as\",\n",
    "\n",
    "                           \"this's\": \"this is\",\"that'd\": \"that would\", \"that'd've\": \"that would have\", \"that's\": \"that is\", \"there'd\": \"there would\",\n",
    "\n",
    "                           \"there'd've\": \"there would have\", \"there's\": \"there is\", \"here's\": \"here is\",\"they'd\": \"they would\", \"they'd've\": \"they would have\",\n",
    "\n",
    "                           \"they'll\": \"they will\", \"they'll've\": \"they will have\", \"they're\": \"they are\", \"they've\": \"they have\", \"to've\": \"to have\",\n",
    "\n",
    "                           \"wasn't\": \"was not\", \"we'd\": \"we would\", \"we'd've\": \"we would have\", \"we'll\": \"we will\", \"we'll've\": \"we will have\", \"we're\": \"we are\",\n",
    "\n",
    "                           \"we've\": \"we have\", \"weren't\": \"were not\", \"what'll\": \"what will\", \"what'll've\": \"what will have\", \"what're\": \"what are\",\n",
    "\n",
    "                           \"what's\": \"what is\", \"what've\": \"what have\", \"when's\": \"when is\", \"when've\": \"when have\", \"where'd\": \"where did\", \"where's\": \"where is\",\n",
    "\n",
    "                           \"where've\": \"where have\", \"who'll\": \"who will\", \"who'll've\": \"who will have\", \"who's\": \"who is\", \"who've\": \"who have\",\n",
    "\n",
    "                           \"why's\": \"why is\", \"why've\": \"why have\", \"will've\": \"will have\", \"won't\": \"will not\", \"won't've\": \"will not have\",\n",
    "\n",
    "                           \"would've\": \"would have\", \"wouldn't\": \"would not\", \"wouldn't've\": \"would not have\", \"y'all\": \"you all\",\n",
    "\n",
    "                           \"y'all'd\": \"you all would\",\"y'all'd've\": \"you all would have\",\"y'all're\": \"you all are\",\"y'all've\": \"you all have\",\n",
    "\n",
    "                           \"you'd\": \"you would\", \"you'd've\": \"you would have\", \"you'll\": \"you will\", \"you'll've\": \"you will have\",\n",
    "\n",
    "                           \"you're\": \"you are\", \"you've\": \"you have\"}"
   ]
  },
  {
   "cell_type": "code",
   "execution_count": 18,
   "metadata": {},
   "outputs": [
    {
     "name": "stderr",
     "output_type": "stream",
     "text": [
      "[nltk_data] Downloading package stopwords to\n",
      "[nltk_data]     C:\\Users\\HARSHDIP\\AppData\\Roaming\\nltk_data...\n",
      "[nltk_data]   Unzipping corpora\\stopwords.zip.\n"
     ]
    }
   ],
   "source": [
    "import nltk\n",
    "nltk.download('stopwords')\n",
    "from nltk.corpus import stopwords\n",
    "\n",
    "stop_words = set(stopwords.words('english')) \n"
   ]
  },
  {
   "cell_type": "code",
   "execution_count": 19,
   "metadata": {},
   "outputs": [],
   "source": [
    "from bs4 import BeautifulSoup \n",
    "import re           \n",
    "\n",
    "def text_cleaner(text):\n",
    "  #To include a list of permitted words of length <=2 in a list\n",
    "    allowed_short_words=['it','us','uk','ky','bu']\n",
    "    newChars = text.lower()\n",
    "    newChars = BeautifulSoup(newChars, \"lxml\").text\n",
    "    newChars = re.sub(r'\\([^)]*\\)', '', newChars)\n",
    "    newChars = re.sub('\"','', newChars)\n",
    "    newChars = ' '.join([contraction_mapping[t] if t in contraction_mapping else t for t in newChars.split(\" \")])    \n",
    "    newChars = re.sub(r\"'s\\b\",\"\",newChars)\n",
    "    newChars = re.sub(\"[^a-zA-Z]\", \" \", newChars) \n",
    "    tokens = [w for w in newChars.split() if not w in stop_words]\n",
    "    long_words=[]\n",
    "    \n",
    "    for i in tokens:\n",
    "        if (len(i)>=3 or i in allowed_short_words):                 \n",
    "            long_words.append(i)   \n",
    "    return (\" \".join(long_words)).strip()\n",
    "    "
   ]
  },
  {
   "cell_type": "code",
   "execution_count": 20,
   "metadata": {},
   "outputs": [
    {
     "name": "stderr",
     "output_type": "stream",
     "text": [
      "C:\\Users\\HARSHDIP\\AppData\\Local\\Temp\\ipykernel_17456\\2514107432.py:8: MarkupResemblesLocatorWarning: The input looks more like a filename than markup. You may want to open this file and pass the filehandle into Beautiful Soup.\n",
      "  newChars = BeautifulSoup(newChars, \"lxml\").text\n"
     ]
    }
   ],
   "source": [
    "cleaned_text = []\n",
    "for t in arxiv_df['Abstract']:\n",
    "    cleaned_text.append(text_cleaner(t))\n"
   ]
  },
  {
   "cell_type": "code",
   "execution_count": 25,
   "metadata": {},
   "outputs": [
    {
     "data": {
      "text/plain": [
       "'generalities empirical diagnostics based emission lines photoionization modelling pending questions appendix lists useful lines deal'"
      ]
     },
     "execution_count": 25,
     "metadata": {},
     "output_type": "execute_result"
    }
   ],
   "source": [
    "cleaned_text[0]\n"
   ]
  },
  {
   "cell_type": "code",
   "execution_count": 33,
   "metadata": {},
   "outputs": [],
   "source": [
    "def headlines_cleaner(text):\n",
    "    newChars = re.sub('\"','', text)\n",
    "    newChars = ' '.join([contraction_mapping[t] if t in contraction_mapping else t for t in newChars.split(\" \")])    \n",
    "    newChars = re.sub(r\"'s\\b\",\"\",newChars)\n",
    "    newChars = re.sub(\"[^a-zA-Z]\", \" \", newChars)\n",
    "    newChars = newChars.lower()\n",
    "    tokens=newChars.split()\n",
    "    newChars=''\n",
    "    for i in tokens:\n",
    "        if len(i)>1:                                 \n",
    "            newChars+=(i+' ')\n",
    "    return newChars\n",
    "\n"
   ]
  },
  {
   "cell_type": "code",
   "execution_count": 26,
   "metadata": {},
   "outputs": [],
   "source": [
    "arxiv_df[\"Abstract\"]=cleaned_text"
   ]
  },
  {
   "cell_type": "code",
   "execution_count": 34,
   "metadata": {},
   "outputs": [],
   "source": [
    "# Apply text_cleaner to Abstracts\n",
    "compscholar_df['Abstract'] = compscholar_df['Abstract'].apply(text_cleaner)\n",
    "pubmed_df['Abstract'] = pubmed_df['Abstract'].apply(text_cleaner)\n",
    "# arxiv_df['Abstract'] = arxiv_df['Abstract'].apply(text_cleaner)\n",
    "\n",
    "# Apply headlines_cleaner to Titles\n",
    "compscholar_df['Title'] = compscholar_df['Title'].apply(headlines_cleaner)\n",
    "pubmed_df['Title'] = pubmed_df['Title'].apply(headlines_cleaner)\n",
    "arxiv_df['Title'] = arxiv_df['Title'].apply(headlines_cleaner)\n"
   ]
  },
  {
   "cell_type": "code",
   "execution_count": 35,
   "metadata": {},
   "outputs": [
    {
     "name": "stderr",
     "output_type": "stream",
     "text": [
      "C:\\Users\\HARSHDIP\\AppData\\Local\\Temp\\ipykernel_17456\\1748037498.py:3: FutureWarning: A value is trying to be set on a copy of a DataFrame or Series through chained assignment using an inplace method.\n",
      "The behavior will change in pandas 3.0. This inplace method will never work because the intermediate object on which we are setting values always behaves as a copy.\n",
      "\n",
      "For example, when doing 'df[col].method(value, inplace=True)', try using 'df.method({col: value}, inplace=True)' or df[col] = df[col].method(value) instead, to perform the operation inplace on the original object.\n",
      "\n",
      "\n",
      "  compscholar_df['Title'].replace('', np.nan, inplace=True)\n",
      "C:\\Users\\HARSHDIP\\AppData\\Local\\Temp\\ipykernel_17456\\1748037498.py:4: FutureWarning: A value is trying to be set on a copy of a DataFrame or Series through chained assignment using an inplace method.\n",
      "The behavior will change in pandas 3.0. This inplace method will never work because the intermediate object on which we are setting values always behaves as a copy.\n",
      "\n",
      "For example, when doing 'df[col].method(value, inplace=True)', try using 'df.method({col: value}, inplace=True)' or df[col] = df[col].method(value) instead, to perform the operation inplace on the original object.\n",
      "\n",
      "\n",
      "  arxiv_df['Title'].replace('', np.nan, inplace=True)\n",
      "C:\\Users\\HARSHDIP\\AppData\\Local\\Temp\\ipykernel_17456\\1748037498.py:5: FutureWarning: A value is trying to be set on a copy of a DataFrame or Series through chained assignment using an inplace method.\n",
      "The behavior will change in pandas 3.0. This inplace method will never work because the intermediate object on which we are setting values always behaves as a copy.\n",
      "\n",
      "For example, when doing 'df[col].method(value, inplace=True)', try using 'df.method({col: value}, inplace=True)' or df[col] = df[col].method(value) instead, to perform the operation inplace on the original object.\n",
      "\n",
      "\n",
      "  pubmed_df['Title'].replace('', np.nan, inplace=True)\n"
     ]
    }
   ],
   "source": [
    "import numpy as np\n",
    "#Replacing the empty values in cleaned headlines with numpy.nan to say that it is a missing value so that **dropna** command drops the row.\n",
    "compscholar_df['Title'].replace('', np.nan, inplace=True)\n",
    "arxiv_df['Title'].replace('', np.nan, inplace=True)\n",
    "pubmed_df['Title'].replace('', np.nan, inplace=True)\n",
    "arxiv_df.dropna(axis=0,inplace=True)\n",
    "compscholar_df.dropna(axis=0,inplace=True)\n",
    "pubmed_df.dropna(axis=0,inplace=True) "
   ]
  },
  {
   "cell_type": "code",
   "execution_count": null,
   "metadata": {},
   "outputs": [],
   "source": []
  },
  {
   "cell_type": "code",
   "execution_count": 36,
   "metadata": {},
   "outputs": [
    {
     "data": {
      "application/vnd.microsoft.datawrangler.viewer.v0+json": {
       "columns": [
        {
         "name": "index",
         "rawType": "int64",
         "type": "integer"
        },
        {
         "name": "Title",
         "rawType": "object",
         "type": "string"
        },
        {
         "name": "Abstract",
         "rawType": "object",
         "type": "string"
        }
       ],
       "conversionMethod": "pd.DataFrame",
       "ref": "86b38d1c-64c7-4fae-b0f3-991f45e33b5a",
       "rows": [
        [
         "0",
         "what can emission lines tell us ",
         "generalities empirical diagnostics based emission lines photoionization modelling pending questions appendix lists useful lines deal"
        ],
        [
         "1",
         "the veldkamp space of two qubits ",
         "given remarkable representation generalized pauli operators two qubits terms points generalized quadrangle order two shown specific subsets operators also associated points lines four dimensional projective space galois field two elements called veldkamp space intriguing novelty recognition triads specific pentads pauli operators addition classical subsets answering geometric hyperplanes"
        ],
        [
         "2",
         "manifolds admitting tilde structure ",
         "find necessary sufficient condition compact manifold admit tilde structure result find sufficient condition open manifold admit closed form tilde type"
        ],
        [
         "3",
         "axiom polynomial skew products of and their postcritical sets ",
         "polynomial skew product map form polynomials regular degree polynomial maps hyperbolicity equivalent condition closure postcritical set disjoint julia set critical points either iterate attracting cycle infinity polynomial skew products jonsson established axiom closure postcritical set disjoint right analog julia set present analogous conclusion critical orbits either escape infinity accumulate attracting set addition construct new examples axiom maps demonstrating various postcritical behaviors"
        ],
        [
         "4",
         "factor analysis and alternating minimization ",
         "paper make first attempt understanding build optimal approximate normal factor analysis model criterion chosen evaluate distance different models divergence corresponding normal laws algorithm propose construction best approximation alternating minimization kind"
        ]
       ],
       "shape": {
        "columns": 2,
        "rows": 5
       }
      },
      "text/html": [
       "<div>\n",
       "<style scoped>\n",
       "    .dataframe tbody tr th:only-of-type {\n",
       "        vertical-align: middle;\n",
       "    }\n",
       "\n",
       "    .dataframe tbody tr th {\n",
       "        vertical-align: top;\n",
       "    }\n",
       "\n",
       "    .dataframe thead th {\n",
       "        text-align: right;\n",
       "    }\n",
       "</style>\n",
       "<table border=\"1\" class=\"dataframe\">\n",
       "  <thead>\n",
       "    <tr style=\"text-align: right;\">\n",
       "      <th></th>\n",
       "      <th>Title</th>\n",
       "      <th>Abstract</th>\n",
       "    </tr>\n",
       "  </thead>\n",
       "  <tbody>\n",
       "    <tr>\n",
       "      <th>0</th>\n",
       "      <td>what can emission lines tell us</td>\n",
       "      <td>generalities empirical diagnostics based emiss...</td>\n",
       "    </tr>\n",
       "    <tr>\n",
       "      <th>1</th>\n",
       "      <td>the veldkamp space of two qubits</td>\n",
       "      <td>given remarkable representation generalized pa...</td>\n",
       "    </tr>\n",
       "    <tr>\n",
       "      <th>2</th>\n",
       "      <td>manifolds admitting tilde structure</td>\n",
       "      <td>find necessary sufficient condition compact ma...</td>\n",
       "    </tr>\n",
       "    <tr>\n",
       "      <th>3</th>\n",
       "      <td>axiom polynomial skew products of and their po...</td>\n",
       "      <td>polynomial skew product map form polynomials r...</td>\n",
       "    </tr>\n",
       "    <tr>\n",
       "      <th>4</th>\n",
       "      <td>factor analysis and alternating minimization</td>\n",
       "      <td>paper make first attempt understanding build o...</td>\n",
       "    </tr>\n",
       "  </tbody>\n",
       "</table>\n",
       "</div>"
      ],
      "text/plain": [
       "                                               Title  \\\n",
       "0                   what can emission lines tell us    \n",
       "1                  the veldkamp space of two qubits    \n",
       "2               manifolds admitting tilde structure    \n",
       "3  axiom polynomial skew products of and their po...   \n",
       "4      factor analysis and alternating minimization    \n",
       "\n",
       "                                            Abstract  \n",
       "0  generalities empirical diagnostics based emiss...  \n",
       "1  given remarkable representation generalized pa...  \n",
       "2  find necessary sufficient condition compact ma...  \n",
       "3  polynomial skew product map form polynomials r...  \n",
       "4  paper make first attempt understanding build o...  "
      ]
     },
     "execution_count": 36,
     "metadata": {},
     "output_type": "execute_result"
    }
   ],
   "source": [
    "arxiv_df.head(5)"
   ]
  },
  {
   "cell_type": "code",
   "execution_count": 38,
   "metadata": {},
   "outputs": [
    {
     "name": "stdout",
     "output_type": "stream",
     "text": [
      "Compscholar Dataset Word Count Distribution:\n",
      "    Text  Headlines\n",
      "0     57          8\n",
      "1     96          8\n",
      "2     93          9\n",
      "3     85         11\n",
      "4    121          6\n",
      "5     79         12\n",
      "6    108         11\n",
      "7     95          8\n",
      "8    136         17\n",
      "9    181         15\n",
      "10   126          9\n",
      "11   141         13\n",
      "12   148          6\n",
      "13   144         17\n",
      "14   216          9\n",
      "15    92          9\n",
      "16    95         10\n",
      "17   155         13\n",
      "18   117         15\n",
      "19   109         12\n",
      "\n",
      "PubMed Dataset Word Count Distribution:\n",
      "    Text  Headlines\n",
      "0    153         24\n",
      "1    148          6\n",
      "2    146         14\n",
      "3      2         18\n",
      "4    187         29\n",
      "5    142         23\n",
      "6    166         22\n",
      "7    158         15\n",
      "8    153         18\n",
      "9    133         17\n",
      "10   138         22\n",
      "11   160         15\n",
      "12    39         12\n",
      "13     2         12\n",
      "14    29         14\n",
      "15    39         13\n",
      "16    86         15\n",
      "17   146         15\n",
      "18   187         21\n",
      "19   184         22\n",
      "\n",
      "ArXiv Dataset Word Count Distribution:\n",
      "    Text  Headlines\n",
      "0     15          6\n",
      "1     47          6\n",
      "2     20          4\n",
      "3     61          9\n",
      "4     30          5\n",
      "5    110          8\n",
      "6    136          7\n",
      "7     27          5\n",
      "8     39          7\n",
      "9     91          8\n",
      "10   144          9\n",
      "11    64          8\n",
      "12    29          8\n",
      "13    31          6\n",
      "14    37          9\n",
      "15    45         24\n",
      "16    23         12\n",
      "17    98         14\n",
      "18   132          7\n",
      "19    28          4\n"
     ]
    },
    {
     "data": {
      "image/png": "[encoded data removed]",
      "text/plain": [
       "<Figure size 800x500 with 1 Axes>"
      ]
     },
     "metadata": {},
     "output_type": "display_data"
    },
    {
     "data": {
      "image/png": "[encoded data removed]",
      "text/plain": [
       "<Figure size 800x500 with 1 Axes>"
      ]
     },
     "metadata": {},
     "output_type": "display_data"
    },
    {
     "data": {
      "image/png": "[encoded data removed]",
      "text/plain": [
       "<Figure size 800x500 with 1 Axes>"
      ]
     },
     "metadata": {},
     "output_type": "display_data"
    }
   ],
   "source": [
    "import matplotlib.pyplot as plt\n",
    "import pandas as pd\n",
    "\n",
    "# Initialize lists to store word counts\n",
    "text_cnt = {'Compscholar': [], 'PubMed': [], 'ArXiv': []}\n",
    "headlines_cnt = {'Compscholar': [], 'PubMed': [], 'ArXiv': []}\n",
    "\n",
    "# Function to count words in each dataset\n",
    "def count_words(df, dataset_name):\n",
    "    for i in df['Abstract']:\n",
    "        text_cnt[dataset_name].append(len(i.split()))\n",
    "    for i in df['Title']:\n",
    "        headlines_cnt[dataset_name].append(len(i.split()))\n",
    "\n",
    "# Count words for each dataset\n",
    "count_words(compscholar_df, 'Compscholar')\n",
    "count_words(pubmed_df, 'PubMed')\n",
    "count_words(arxiv_df, 'ArXiv')\n",
    "\n",
    "# Create DataFrames for length distributions\n",
    "compscholar_dist = pd.DataFrame({'Text': text_cnt['Compscholar'], 'Headlines': headlines_cnt['Compscholar']})\n",
    "pubmed_dist = pd.DataFrame({'Text': text_cnt['PubMed'], 'Headlines': headlines_cnt['PubMed']})\n",
    "arxiv_dist = pd.DataFrame({'Text': text_cnt['ArXiv'], 'Headlines': headlines_cnt['ArXiv']})\n",
    "\n",
    "# Display first 20 rows from each dataset\n",
    "print(\"Compscholar Dataset Word Count Distribution:\")\n",
    "print(compscholar_dist.head(20))\n",
    "\n",
    "print(\"\\nPubMed Dataset Word Count Distribution:\")\n",
    "print(pubmed_dist.head(20))\n",
    "\n",
    "print(\"\\nArXiv Dataset Word Count Distribution:\")\n",
    "print(arxiv_dist.head(20))\n",
    "\n",
    "# Plot separate histograms\n",
    "def plot_histogram(dataset_name, color):\n",
    "    plt.figure(figsize=(8, 5))\n",
    "    plt.hist(text_cnt[dataset_name], bins=50, alpha=0.7, color=color, label=f\"{dataset_name} Abstracts\")\n",
    "    plt.xlabel(\"Word Count\")\n",
    "    plt.ylabel(\"Frequency\")\n",
    "    plt.title(f\"Word Count Distribution in {dataset_name} Abstracts\")\n",
    "    plt.legend()\n",
    "    plt.show()\n",
    "\n",
    "# Plot separate graphs\n",
    "plot_histogram(\"Compscholar\", \"blue\")\n",
    "plot_histogram(\"PubMed\", \"green\")\n",
    "plot_histogram(\"ArXiv\", \"red\")\n"
   ]
  },
  {
   "cell_type": "code",
   "execution_count": null,
   "metadata": {},
   "outputs": [],
   "source": []
  },
  {
   "cell_type": "code",
   "execution_count": 1,
   "metadata": {},
   "outputs": [
    {
     "ename": "NameError",
     "evalue": "name 'Dataset' is not defined",
     "output_type": "error",
     "traceback": [
      "\u001b[1;31m---------------------------------------------------------------------------\u001b[0m",
      "\u001b[1;31mNameError\u001b[0m                                 Traceback (most recent call last)",
      "Cell \u001b[1;32mIn[1], line 1\u001b[0m\n\u001b[1;32m----> 1\u001b[0m \u001b[38;5;28;01mclass\u001b[39;00m \u001b[38;5;21;01mSummarizationDataset\u001b[39;00m(\u001b[43mDataset\u001b[49m):\n\u001b[0;32m      2\u001b[0m     \u001b[38;5;28;01mdef\u001b[39;00m \u001b[38;5;21m__init__\u001b[39m(\u001b[38;5;28mself\u001b[39m, dataframe):\n\u001b[0;32m      3\u001b[0m         \u001b[38;5;28mself\u001b[39m\u001b[38;5;241m.\u001b[39minput_ids \u001b[38;5;241m=\u001b[39m dataframe[\u001b[38;5;124m'\u001b[39m\u001b[38;5;124mAbstract\u001b[39m\u001b[38;5;124m'\u001b[39m]\u001b[38;5;241m.\u001b[39mapply(\u001b[38;5;28;01mlambda\u001b[39;00m x: preprocess_text(x)[\u001b[38;5;124m'\u001b[39m\u001b[38;5;124minput_ids\u001b[39m\u001b[38;5;124m'\u001b[39m]\u001b[38;5;241m.\u001b[39msqueeze(\u001b[38;5;241m0\u001b[39m))\u001b[38;5;241m.\u001b[39mtolist()\n",
      "\u001b[1;31mNameError\u001b[0m: name 'Dataset' is not defined"
     ]
    }
   ],
   "source": [
    "class SummarizationDataset(Dataset):\n",
    "    def __init__(self, dataframe):\n",
    "        self.input_ids = dataframe['Abstract'].apply(lambda x: preprocess_text(x)['input_ids'].squeeze(0)).tolist()\n",
    "        self.attention_mask = dataframe['Abstract'].apply(lambda x: preprocess_text(x)['attention_mask'].squeeze(0)).tolist()\n",
    "        self.labels = dataframe['Title'].apply(lambda x: preprocess_text(f\"stok {x} etok\")['input_ids'].squeeze(0)).tolist()\n",
    "\n",
    "    def __len__(self):\n",
    "        return len(self.input_ids)\n",
    "\n",
    "    def __getitem__(self, idx):\n",
    "        return {\n",
    "            'input_ids': self.input_ids[idx],\n",
    "            'attention_mask': self.attention_mask[idx],\n",
    "            'labels': self.labels[idx]\n",
    "        }\n",
    "\n",
    "# Combine datasets\n",
    "train_dataset = ConcatDataset([\n",
    "    SummarizationDataset(arxiv_df),\n",
    "    SummarizationDataset(pubmed_df)\n",
    "])\n",
    "test_dataset = SummarizationDataset(compscholar_df)\n"
   ]
  },
  {
   "cell_type": "code",
   "execution_count": 15,
   "metadata": {},
   "outputs": [],
   "source": [
    "\n",
    "class HybridSummarizer(nn.Module):\n",
    "    def __init__(self):\n",
    "        super().__init__()\n",
    "        self.model = BartForConditionalGeneration.from_pretrained(\"facebook/bart-large\")\n",
    "\n",
    "    def forward(self, input_ids, attention_mask, labels):\n",
    "        return self.model(input_ids=input_ids, attention_mask=attention_mask, labels=labels)\n"
   ]
  },
  {
   "cell_type": "code",
   "execution_count": null,
   "metadata": {},
   "outputs": [],
   "source": [
    "device = torch.device(\"cuda\" if torch.cuda.is_available() else \"cpu\")\n",
    "model = HybridSummarizer().to(device)\n",
    "\n",
    "# Training Setup\n",
    "optimizer = AdamW(model.parameters(), lr=2e-5)\n",
    "train_loader = DataLoader(train_dataset, batch_size=4, shuffle=True)\n",
    "test_loader = DataLoader(test_dataset, batch_size=4, shuffle=False)\n",
    "num_training_steps = len(train_loader) * 3  # 3 epochs\n",
    "scheduler = get_scheduler(\"linear\", optimizer=optimizer, num_warmup_steps=0, num_training_steps=num_training_steps)\n",
    "\n",
    "# Training Loop\n",
    "for epoch in range(3):\n",
    "    for batch in train_loader:\n",
    "        input_ids = batch['input_ids'].to(device)\n",
    "        attention_mask = batch['attention_mask'].to(device)\n",
    "        labels = batch['labels'].to(device)\n",
    "\n",
    "        outputs = model(input_ids, attention_mask=attention_mask, labels=labels)\n",
    "        loss = outputs.loss\n",
    "        loss.backward()\n",
    "        optimizer.step()\n",
    "        scheduler.step()\n",
    "        optimizer.zero_grad()\n",
    "# Save the model\n",
    "torch.save(model.state_dict(), \"hybrid_summarizer.pth\")\n",
    "print(\"Model training complete. Saved as 'hybrid_summarizer.pth'.\")\n",
    "\n",
    "\n",
    "\n",
    "\n",
    "\n",
    "\n",
    "\n",
    "\n",
    "\n",
    "\n",
    "\n",
    "\n",
    "\n",
    "\n",
    "\n"
   ]
  },
  {
   "cell_type": "code",
   "execution_count": null,
   "metadata": {},
   "outputs": [],
   "source": [
    "from datasets import load_metric\n",
    "\n",
    "\n",
    "model.eval()\n",
    "rouge = load_metric(\"rouge\")\n",
    "\n",
    "generated_summaries = []\n",
    "reference_summaries = []\n",
    "\n",
    "with torch.no_grad():\n",
    "    for batch in test_loader:\n",
    "        input_ids = torch.stack(batch['input_ids']).to(device)\n",
    "        attention_mask = torch.stack(batch['attention_mask']).to(device)\n",
    "        labels = batch['labels']\n",
    "\n",
    "        outputs = model.model.generate(input_ids, attention_mask=attention_mask, max_length=150)\n",
    "        generated_texts = [tokenizer.decode(output, skip_special_tokens=True) for output in outputs]\n",
    "        reference_texts = [tokenizer.decode(label, skip_special_tokens=True) for label in labels]\n",
    "\n",
    "        generated_summaries.extend(generated_texts)\n",
    "        reference_summaries.extend(reference_texts)\n",
    "\n",
    "# Compute ROUGE Score\n",
    "rouge_scores = rouge.compute(predictions=generated_summaries, references=reference_summaries)\n",
    "print(\"ROUGE Scores:\", rouge_scores)"
   ]
  },
  {
   "cell_type": "code",
   "execution_count": null,
   "metadata": {},
   "outputs": [],
   "source": [
    "# import torch\n",
    "# from transformers import BartForConditionalGeneration, BartTokenizer\n",
    "\n",
    "# # Load tokenizer and model\n",
    "# tokenizer = BartTokenizer.from_pretrained(\"facebook/bart-large\")\n",
    "\n",
    "# device = torch.device(\"cuda\" if torch.cuda.is_available() else \"cpu\")\n",
    "\n",
    "# # Initialize model and load trained weights\n",
    "# model = BartForConditionalGeneration.from_pretrained(\"facebook/bart-large\")\n",
    "# model.load_state_dict(torch.load(\"hybrid_summarizer.pth\", map_location=device))\n",
    "# model.to(device)\n",
    "# model.eval()\n"
   ]
  },
  {
   "cell_type": "code",
   "execution_count": null,
   "metadata": {},
   "outputs": [],
   "source": [
    "# def generate_summary(text, max_length=100):\n",
    "#     inputs = tokenizer(text, return_tensors=\"pt\", truncation=True, max_length=512).to(device)\n",
    "#     summary_ids = model.generate(**inputs, max_length=max_length, num_beams=5, early_stopping=True)\n",
    "#     return tokenizer.decode(summary_ids[0], skip_special_tokens=True)\n",
    "\n",
    "# # Sample input abstracts\n",
    "# test_abstracts = [\n",
    "#     \"Deep learning has revolutionized various AI applications. This paper explores novel techniques in transformer architectures.\",\n",
    "#     \"A new approach to drug discovery using AI and quantum computing is proposed, significantly reducing time and cost.\"\n",
    "# ]\n",
    "\n",
    "# # Generate and print summaries\n",
    "# for abstract in test_abstracts:\n",
    "#     print(\"Abstract:\", abstract)\n",
    "#     print(\"Generated Summary:\", generate_summary(abstract))\n",
    "#     print(\"-\" * 50)\n"
   ]
  },
  {
   "cell_type": "code",
   "execution_count": null,
   "metadata": {},
   "outputs": [],
   "source": [
    "# from rouge_score import rouge_scorer\n",
    "\n",
    "# # Reference (Ground Truth) Summaries\n",
    "# reference_summaries = [\n",
    "#     \"Deep learning transforms AI with improved transformer models.\",\n",
    "#     \"AI and quantum computing accelerate drug discovery.\"\n",
    "# ]\n",
    "\n",
    "# # Compute ROUGE Scores\n",
    "# scorer = rouge_scorer.RougeScorer(['rouge1', 'rouge2', 'rougeL'], use_stemmer=True)\n",
    "\n",
    "# for i, abstract in enumerate(test_abstracts):\n",
    "#     generated_summary = generate_summary(abstract)\n",
    "#     scores = scorer.score(reference_summaries[i], generated_summary)\n",
    "\n",
    "#     print(f\"Sample {i+1} ROUGE Scores:\")\n",
    "#     print(\"ROUGE-1:\", scores['rouge1'].fmeasure)\n",
    "#     print(\"ROUGE-2:\", scores['rouge2'].fmeasure)\n",
    "#     print(\"ROUGE-L:\", scores['rougeL'].fmeasure)\n",
    "#     print(\"-\" * 50)\n"
   ]
  },
  {
   "cell_type": "code",
   "execution_count": null,
   "metadata": {},
   "outputs": [],
   "source": [
    "# from rouge_score import rouge_scorer\n",
    "# from sacrebleu import corpus_bleu\n",
    "# import nltk\n",
    "\n",
    "# # Download NLTK tokenizer\n",
    "# nltk.download('punkt')\n",
    "\n",
    "# def compute_rouge(reference_summaries, generated_summaries):\n",
    "#     scorer = rouge_scorer.RougeScorer(['rouge1', 'rouge2', 'rougeL'], use_stemmer=True)\n",
    "#     scores = {'rouge1': [], 'rouge2': [], 'rougeL': []}\n",
    "\n",
    "#     for ref, gen in zip(reference_summaries, generated_summaries):\n",
    "#         score = scorer.score(ref, gen)\n",
    "#         scores['rouge1'].append(score['rouge1'].fmeasure)\n",
    "#         scores['rouge2'].append(score['rouge2'].fmeasure)\n",
    "#         scores['rougeL'].append(score['rougeL'].fmeasure)\n",
    "\n",
    "#     return {metric: sum(values) / len(values) for metric, values in scores.items()}\n",
    "\n",
    "# def compute_bleu(reference_summaries, generated_summaries):\n",
    "#     references = [[nltk.word_tokenize(ref)] for ref in reference_summaries]\n",
    "#     hypotheses = [nltk.word_tokenize(gen) for gen in generated_summaries]\n",
    "#     return corpus_bleu(hypotheses, references).score\n"
   ]
  },
  {
   "cell_type": "code",
   "execution_count": null,
   "metadata": {},
   "outputs": [],
   "source": [
    "# def generate_summaries(model, test_loader, tokenizer):\n",
    "#     model.eval()\n",
    "#     generated_summaries = []\n",
    "#     reference_summaries = []\n",
    "\n",
    "#     with torch.no_grad():\n",
    "#         for batch in test_loader:\n",
    "#             input_ids = batch['input_ids'].to(device)\n",
    "#             attention_mask = batch['attention_mask'].to(device)\n",
    "#             labels = batch['labels']\n",
    "\n",
    "#             outputs = model.generate(input_ids, attention_mask=attention_mask, max_length=150)\n",
    "#             generated_texts = tokenizer.batch_decode(outputs, skip_special_tokens=True)\n",
    "#             reference_texts = tokenizer.batch_decode(labels, skip_special_tokens=True)\n",
    "\n",
    "#             generated_summaries.extend(generated_texts)\n",
    "#             reference_summaries.extend(reference_texts)\n",
    "\n",
    "#     return reference_summaries, generated_summaries\n"
   ]
  },
  {
   "cell_type": "code",
   "execution_count": null,
   "metadata": {},
   "outputs": [],
   "source": [
    "# reference_summaries, generated_summaries = generate_summaries(model, test_loader, tokenizer)\n",
    "\n",
    "# # Compute ROUGE Scores\n",
    "# rouge_scores = compute_rouge(reference_summaries, generated_summaries)\n",
    "# print(\"ROUGE Scores:\", rouge_scores)\n",
    "\n",
    "# # Compute BLEU Score\n",
    "# bleu_score = compute_bleu(reference_summaries, generated_summaries)\n",
    "# print(\"BLEU Score:\", bleu_score)\n"
   ]
  }
 ],
 "metadata": {
  "kernelspec": {
   "display_name": "Python 3",
   "language": "python",
   "name": "python3"
  },
  "language_info": {
   "codemirror_mode": {
    "name": "ipython",
    "version": 3
   },
   "file_extension": ".py",
   "mimetype": "text/x-python",
   "name": "python",
   "nbconvert_exporter": "python",
   "pygments_lexer": "ipython3",
   "version": "3.12.0"
  }
 },
 "nbformat": 4,
 "nbformat_minor": 2
}
